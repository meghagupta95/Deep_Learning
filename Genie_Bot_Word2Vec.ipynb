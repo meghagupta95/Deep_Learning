{
  "cells": [
    {
      "cell_type": "code",
      "execution_count": null,
      "metadata": {
        "id": "vD7wcI8W9uAk",
        "colab": {
          "base_uri": "https://localhost:8080/",
          "height": 1000
        },
        "outputId": "50baa7de-fd6d-4433-990e-b2b34ad290c6"
      },
      "outputs": [
        {
          "output_type": "display_data",
          "data": {
            "text/plain": [
              "<IPython.core.display.HTML object>"
            ],
            "text/html": [
              "\n",
              "     <input type=\"file\" id=\"files-644df33a-1cc3-4de0-aaf8-3e7832813dd6\" name=\"files[]\" multiple disabled\n",
              "        style=\"border:none\" />\n",
              "     <output id=\"result-644df33a-1cc3-4de0-aaf8-3e7832813dd6\">\n",
              "      Upload widget is only available when the cell has been executed in the\n",
              "      current browser session. Please rerun this cell to enable.\n",
              "      </output>\n",
              "      <script>// Copyright 2017 Google LLC\n",
              "//\n",
              "// Licensed under the Apache License, Version 2.0 (the \"License\");\n",
              "// you may not use this file except in compliance with the License.\n",
              "// You may obtain a copy of the License at\n",
              "//\n",
              "//      http://www.apache.org/licenses/LICENSE-2.0\n",
              "//\n",
              "// Unless required by applicable law or agreed to in writing, software\n",
              "// distributed under the License is distributed on an \"AS IS\" BASIS,\n",
              "// WITHOUT WARRANTIES OR CONDITIONS OF ANY KIND, either express or implied.\n",
              "// See the License for the specific language governing permissions and\n",
              "// limitations under the License.\n",
              "\n",
              "/**\n",
              " * @fileoverview Helpers for google.colab Python module.\n",
              " */\n",
              "(function(scope) {\n",
              "function span(text, styleAttributes = {}) {\n",
              "  const element = document.createElement('span');\n",
              "  element.textContent = text;\n",
              "  for (const key of Object.keys(styleAttributes)) {\n",
              "    element.style[key] = styleAttributes[key];\n",
              "  }\n",
              "  return element;\n",
              "}\n",
              "\n",
              "// Max number of bytes which will be uploaded at a time.\n",
              "const MAX_PAYLOAD_SIZE = 100 * 1024;\n",
              "\n",
              "function _uploadFiles(inputId, outputId) {\n",
              "  const steps = uploadFilesStep(inputId, outputId);\n",
              "  const outputElement = document.getElementById(outputId);\n",
              "  // Cache steps on the outputElement to make it available for the next call\n",
              "  // to uploadFilesContinue from Python.\n",
              "  outputElement.steps = steps;\n",
              "\n",
              "  return _uploadFilesContinue(outputId);\n",
              "}\n",
              "\n",
              "// This is roughly an async generator (not supported in the browser yet),\n",
              "// where there are multiple asynchronous steps and the Python side is going\n",
              "// to poll for completion of each step.\n",
              "// This uses a Promise to block the python side on completion of each step,\n",
              "// then passes the result of the previous step as the input to the next step.\n",
              "function _uploadFilesContinue(outputId) {\n",
              "  const outputElement = document.getElementById(outputId);\n",
              "  const steps = outputElement.steps;\n",
              "\n",
              "  const next = steps.next(outputElement.lastPromiseValue);\n",
              "  return Promise.resolve(next.value.promise).then((value) => {\n",
              "    // Cache the last promise value to make it available to the next\n",
              "    // step of the generator.\n",
              "    outputElement.lastPromiseValue = value;\n",
              "    return next.value.response;\n",
              "  });\n",
              "}\n",
              "\n",
              "/**\n",
              " * Generator function which is called between each async step of the upload\n",
              " * process.\n",
              " * @param {string} inputId Element ID of the input file picker element.\n",
              " * @param {string} outputId Element ID of the output display.\n",
              " * @return {!Iterable<!Object>} Iterable of next steps.\n",
              " */\n",
              "function* uploadFilesStep(inputId, outputId) {\n",
              "  const inputElement = document.getElementById(inputId);\n",
              "  inputElement.disabled = false;\n",
              "\n",
              "  const outputElement = document.getElementById(outputId);\n",
              "  outputElement.innerHTML = '';\n",
              "\n",
              "  const pickedPromise = new Promise((resolve) => {\n",
              "    inputElement.addEventListener('change', (e) => {\n",
              "      resolve(e.target.files);\n",
              "    });\n",
              "  });\n",
              "\n",
              "  const cancel = document.createElement('button');\n",
              "  inputElement.parentElement.appendChild(cancel);\n",
              "  cancel.textContent = 'Cancel upload';\n",
              "  const cancelPromise = new Promise((resolve) => {\n",
              "    cancel.onclick = () => {\n",
              "      resolve(null);\n",
              "    };\n",
              "  });\n",
              "\n",
              "  // Wait for the user to pick the files.\n",
              "  const files = yield {\n",
              "    promise: Promise.race([pickedPromise, cancelPromise]),\n",
              "    response: {\n",
              "      action: 'starting',\n",
              "    }\n",
              "  };\n",
              "\n",
              "  cancel.remove();\n",
              "\n",
              "  // Disable the input element since further picks are not allowed.\n",
              "  inputElement.disabled = true;\n",
              "\n",
              "  if (!files) {\n",
              "    return {\n",
              "      response: {\n",
              "        action: 'complete',\n",
              "      }\n",
              "    };\n",
              "  }\n",
              "\n",
              "  for (const file of files) {\n",
              "    const li = document.createElement('li');\n",
              "    li.append(span(file.name, {fontWeight: 'bold'}));\n",
              "    li.append(span(\n",
              "        `(${file.type || 'n/a'}) - ${file.size} bytes, ` +\n",
              "        `last modified: ${\n",
              "            file.lastModifiedDate ? file.lastModifiedDate.toLocaleDateString() :\n",
              "                                    'n/a'} - `));\n",
              "    const percent = span('0% done');\n",
              "    li.appendChild(percent);\n",
              "\n",
              "    outputElement.appendChild(li);\n",
              "\n",
              "    const fileDataPromise = new Promise((resolve) => {\n",
              "      const reader = new FileReader();\n",
              "      reader.onload = (e) => {\n",
              "        resolve(e.target.result);\n",
              "      };\n",
              "      reader.readAsArrayBuffer(file);\n",
              "    });\n",
              "    // Wait for the data to be ready.\n",
              "    let fileData = yield {\n",
              "      promise: fileDataPromise,\n",
              "      response: {\n",
              "        action: 'continue',\n",
              "      }\n",
              "    };\n",
              "\n",
              "    // Use a chunked sending to avoid message size limits. See b/62115660.\n",
              "    let position = 0;\n",
              "    do {\n",
              "      const length = Math.min(fileData.byteLength - position, MAX_PAYLOAD_SIZE);\n",
              "      const chunk = new Uint8Array(fileData, position, length);\n",
              "      position += length;\n",
              "\n",
              "      const base64 = btoa(String.fromCharCode.apply(null, chunk));\n",
              "      yield {\n",
              "        response: {\n",
              "          action: 'append',\n",
              "          file: file.name,\n",
              "          data: base64,\n",
              "        },\n",
              "      };\n",
              "\n",
              "      let percentDone = fileData.byteLength === 0 ?\n",
              "          100 :\n",
              "          Math.round((position / fileData.byteLength) * 100);\n",
              "      percent.textContent = `${percentDone}% done`;\n",
              "\n",
              "    } while (position < fileData.byteLength);\n",
              "  }\n",
              "\n",
              "  // All done.\n",
              "  yield {\n",
              "    response: {\n",
              "      action: 'complete',\n",
              "    }\n",
              "  };\n",
              "}\n",
              "\n",
              "scope.google = scope.google || {};\n",
              "scope.google.colab = scope.google.colab || {};\n",
              "scope.google.colab._files = {\n",
              "  _uploadFiles,\n",
              "  _uploadFilesContinue,\n",
              "};\n",
              "})(self);\n",
              "</script> "
            ]
          },
          "metadata": {}
        },
        {
          "output_type": "stream",
          "name": "stdout",
          "text": [
            "Saving intents.json to intents (9).json\n"
          ]
        },
        {
          "output_type": "execute_result",
          "data": {
            "text/plain": [
              "{'intents.json': b'{\\n\\t\"intents\": [{\\n\\t\\t\\t\"tag\": \"greeting\",\\n\\t\\t\\t\"patterns\": [\\n\\t\\t\\t\\t\"Hi\",\\n\\t\\t\\t\\t\"Hi Bot\",\\n\\t\\t\\t\\t\"Hola\",\\n\\t\\t\\t\\t\"Hi, how are you\",\\n\\t\\t\\t\\t\"How are you\",\\n\\t\\t\\t\\t\"Is anyone there?\",\\n\\t\\t\\t\\t\"Hello\",\\n\\t\\t\\t\\t\"Hey\",\\n\\t\\t\\t\\t\"What\\'s up\",\\n\\t\\t\\t\\t\"Hi there\",\\n\\t\\t\\t\\t\"Hey there\",\\n\\t\\t\\t\\t\"Good morning\",\\n\\t\\t\\t\\t\"Good afternoon\",\\n\\t\\t\\t\\t\"Good evening\",\\n\\t\\t\\t\\t\"Howdy\",\\n\\t\\t\\t\\t\"Hello there\"\\n\\t\\t\\t],\\n\\t\\t\\t\"responses\": [\\n\\t\\t\\t\\t\"What can i help you with today?\",\\n\\t\\t\\t\\t\"How can I help you today?\"\\n\\t\\t\\t],\\n\\t\\t\\t\"context_set\": \"\"\\n\\t\\t},\\n\\t\\t{\\n\\t\\t\\t\"tag\": \"goodbye\",\\n\\t\\t\\t\"patterns\": [\\n\\t\\t\\t\\t\"Bye\",\\n\\t\\t\\t\\t\"See you later\",\\n\\t\\t\\t\\t\"Goodbye\",\\n\\t\\t\\t\\t\"Farewell\",\\n\\t\\t\\t\\t\"Take care\",\\n\\t\\t\\t\\t\"Catch you later\",\\n\\t\\t\\t\\t\"Goodbye for now\",\\n\\t\\t\\t\\t\"Bye for now\",\\n\\t\\t\\t\\t\"Talk to you later\",\\n\\t\\t\\t\\t\"See you soon\",\\n\\t\\t\\t\\t\"Take it easy\",\\n\\t\\t\\t\\t\"So long\",\\n\\t\\t\\t\\t\"Adios\",\\n\\t\\t\\t\\t\"Good night\",\\n\\t\\t\\t\\t\"Later\",\\n\\t\\t\\t\\t\"Have a good one\",\\n\\t\\t\\t\\t\"Cheers\",\\n\\t\\t\\t\\t\"Good luck\",\\n\\t\\t\\t\\t\"Safe travels\",\\n\\t\\t\\t\\t\"Until next time\"\\n\\t\\t\\t],\\n\\t\\t\\t\"responses\": [\\n\\t\\t\\t\\t\"See you later, thanks for visiting\",\\n\\t\\t\\t\\t\"Have a nice day\",\\n\\t\\t\\t\\t\"Bye! Come back again soon.\"\\n\\t\\t\\t],\\n\\t\\t\\t\"context_set\": \"\"\\n\\t\\t},\\n\\t\\t{\\n\\t\\t\\t\"tag\": \"thanks\",\\n\\t\\t\\t\"patterns\": [\\n\\t\\t\\t\\t\"Thanks\",\\n\\t\\t\\t\\t\"Thank you\",\\n\\t\\t\\t\\t\"That\\'s helpful\",\\n\\t\\t\\t\\t\"Much appreciated\",\\n\\t\\t\\t\\t\"Thanks a lot\",\\n\\t\\t\\t\\t\"Thanks so much\",\\n\\t\\t\\t\\t\"Thank you very much\",\\n\\t\\t\\t\\t\"I appreciate it\",\\n\\t\\t\\t\\t\"You\\'re a lifesaver\",\\n\\t\\t\\t\\t\"I owe you one\",\\n\\t\\t\\t\\t\"You\\'re the best\",\\n\\t\\t\\t\\t\"Thanks for the help\",\\n\\t\\t\\t\\t\"You\\'re awesome\",\\n\\t\\t\\t\\t\"I appreciate your help\",\\n\\t\\t\\t\\t\"You\\'re amazing\",\\n\\t\\t\\t\\t\"Grateful for your help\",\\n\\t\\t\\t\\t\"Thanks for your assistance\",\\n\\t\\t\\t\\t\"You\\'re a big help\",\\n\\t\\t\\t\\t\"That\\'s so kind of you\",\\n\\t\\t\\t\\t\"I can\\'t thank you enough\"\\n\\t\\t\\t],\\n\\t\\t\\t\"responses\": [\\n\\t\\t\\t\\t\"Happy to help!\",\\n\\t\\t\\t\\t\"Any time!\",\\n\\t\\t\\t\\t\"My pleasure\"\\n\\t\\t\\t],\\n\\t\\t\\t\"context_set\": \"\"\\n\\t\\t},\\n\\t\\t{\\n\\t\\t\\t\"tag\": \"catering\",\\n\\t\\t\\t\"patterns\": [\\n\\t\\t\\t\\t\"Do you offer catering services?\",\\n\\t\\t\\t\\t\"Can you cater for events?\",\\n\\t\\t\\t\\t\"Are you available for catering?\",\\n\\t\\t\\t\\t\"Can I hire you for catering?\",\\n\\t\\t\\t\\t\"What types of events do you cater for?\",\\n\\t\\t\\t\\t\"What is your catering menu?\",\\n\\t\\t\\t\\t\"Can you create a custom catering menu?\",\\n\\t\\t\\t\\t\"What is your capacity for catering events?\",\\n\\t\\t\\t\\t\"Do you have experience catering for large events?\",\\n\\t\\t\\t\\t\"What is the cost of your catering services?\",\\n\\t\\t\\t\\t\"Do you offer on-site catering?\",\\n\\t\\t\\t\\t\"Can you accommodate dietary restrictions or special requests?\",\\n\\t\\t\\t\\t\"How far in advance should I book your catering services?\",\\n\\t\\t\\t\\t\"What is included in your catering services?\",\\n\\t\\t\\t\\t\"Do you provide serving staff for catering events?\",\\n\\t\\t\\t\\t\"Can you handle last-minute catering requests?\",\\n\\t\\t\\t\\t\"Do you provide all necessary equipment for catering events?\",\\n\\t\\t\\t\\t\"Can you assist with event planning and coordination?\",\\n\\t\\t\\t\\t\"Do you offer delivery for catering orders?\"\\n\\t\\t\\t],\\n\\t\\t\\t\"responses\": [\\n\\t\\t\\t\\t\"We will be more than happy to serve fresh food to make your event more memorable. Feel free to call us at (669)-224-0833\",\\n\\t\\t\\t\\t\"At Suggi OOta, we offer top-notch catering services to help make your event a success. Give us a call at (669)-224-0833 to learn more and to place your order.\",\\n\\t\\t\\t\\t\"We\\'d love to help make your event unforgettable with our fresh and delicious food. Feel free to give us a call at (669)-224-0833 to discuss your catering needs.\"\\n\\t\\t\\t],\\n\\t\\t\\t\"context_set\": \"\"\\n\\t\\t},\\n\\t\\t{\\n\\t\\t\\t\"tag\": \"hours\",\\n\\t\\t\\t\"patterns\": [\\n\\t\\t\\t\\t\"What hours are you open?\",\\n\\t\\t\\t\\t\"What are your hours?\",\\n\\t\\t\\t\\t\"When are you open?\",\\n\\t\\t\\t\\t\"Tell me your hours\",\\n\\t\\t\\t\\t\"What time do you open?\",\\n\\t\\t\\t\\t\"What time do you close?\",\\n\\t\\t\\t\\t\"When do you close?\",\\n\\t\\t\\t\\t\"What\\'s your schedule?\",\\n\\t\\t\\t\\t\"what are today\\'s timings?\",\\n\\t\\t\\t\\t\"Are you open now?\",\\n\\t\\t\\t\\t\"What are your business hours?\",\\n\\t\\t\\t\\t\"What are your working hours?\",\\n\\t\\t\\t\\t\"When can I visit?\",\\n\\t\\t\\t\\t\"What are your opening hours?\",\\n\\t\\t\\t\\t\"What are your closing hours?\",\\n\\t\\t\\t\\t\"What days are you open?\",\\n\\t\\t\\t\\t\"When do you open?\",\\n\\t\\t\\t\\t\"When do you close?\",\\n\\t\\t\\t\\t\"Are you open on weekends?\",\\n\\t\\t\\t\\t\"Are you open on holidays?\",\\n\\t\\t\\t\\t\"What time are you open?\"\\n\\t\\t\\t],\\n\\t\\t\\t\"responses\": [\\n\\t\\t\\t\\t\"We\\'re open every day from 11am-9pm, except on Mondays when we\\'re closed. On Fridays, we\\'re open from 4pm-9pm.\",\\n\\t\\t\\t\\t\"Our hours are 11am-9pm every day, except for Mondays when we\\'re closed. Fridays, we\\'re open from 4pm-9pm.\"\\n\\t\\t\\t],\\n\\t\\t\\t\"context_set\": \"\"\\n\\t\\t},\\n\\t\\t{\\n\\t\\t\\t\"tag\": \"location\",\\n\\t\\t\\t\"patterns\": [\\n\\t\\t\\t\\t\"What is your location?\",\\n\\t\\t\\t\\t\"Where are you located?\",\\n\\t\\t\\t\\t\"What is your address?\",\\n\\t\\t\\t\\t\"Where is your restaurant situated?\",\\n\\t\\t\\t\\t\"How can I find you?\",\\n\\t\\t\\t\\t\"What\\'s your location?\",\\n\\t\\t\\t\\t\"Where can I find you?\",\\n\\t\\t\\t\\t\"Where are you?\",\\n\\t\\t\\t\\t\"What\\'s the address?\",\\n\\t\\t\\t\\t\"Where is your place?\",\\n\\t\\t\\t\\t\"Where is your business located?\",\\n\\t\\t\\t\\t\"What street are you on?\",\\n\\t\\t\\t\\t\"Which area is your restaurant in?\",\\n\\t\\t\\t\\t\"What\\'s your physical location?\",\\n\\t\\t\\t\\t\"Where should I go?\",\\n\\t\\t\\t\\t\"Where is your store?\",\\n\\t\\t\\t\\t\"Where is your shop?\",\\n\\t\\t\\t\\t\"What\\'s the location\",\\n\\t\\t\\t\\t\"Can you provide the address\",\\n\\t\\t\\t\\t\"Where do I find you\",\\n\\t\\t\\t\\t\"What is your location\",\\n\\t\\t\\t\\t\"Where are you located\",\\n\\t\\t\\t\\t\"What is your address\",\\n\\t\\t\\t\\t\"Where is your restaurant situated\",\\n\\t\\t\\t\\t\"How can I find you\",\\n\\t\\t\\t\\t\"What\\'s your location\",\\n\\t\\t\\t\\t\"Where can I find you\",\\n\\t\\t\\t\\t\"Where are you\",\\n\\t\\t\\t\\t\"What\\'s the address\",\\n\\t\\t\\t\\t\"Where is your place\",\\n\\t\\t\\t\\t\"Where is your business located\",\\n\\t\\t\\t\\t\"What street are you on\",\\n\\t\\t\\t\\t\"Which area is your restaurant in\",\\n\\t\\t\\t\\t\"What\\'s your physical location\",\\n\\t\\t\\t\\t\"Where should I go\",\\n\\t\\t\\t\\t\"Where is your store\",\\n\\t\\t\\t\\t\"Where is your shop\",\\n\\t\\t\\t\\t\"What\\'s the location\",\\n\\t\\t\\t\\t\"Can you provide the address\",\\n\\t\\t\\t\\t\"Where do I find you\"\\n\\t\\t\\t],\\n\\t\\t\\t\"responses\": [\\n\\t\\t\\t\\t\"We are one of the Cloud Kitchens (K-31) located at 949 Ruff Dr, San Jose, CA 95110. Please follow the link to visit us: https://www.google.com/maps?q=949+Ruff+Dr,+San+Jose,+CA+95110\"\\n\\t\\t\\t],\\n\\t\\t\\t\"context_set\": \"\"\\n\\t\\t},\\n\\t\\t{\\n\\t\\t\\t\"tag\": \"contact\",\\n\\t\\t\\t\"patterns\": [\\n\\t\\t\\t\\t\"How can I contact you?\",\\n\\t\\t\\t\\t\"What\\'s your phone number?\",\\n\\t\\t\\t\\t\"Can I call you?\",\\n\\t\\t\\t\\t\"May I have your contact information?\",\\n\\t\\t\\t\\t\"What are your contact details?\",\\n\\t\\t\\t\\t\"Can you provide your phone number?\",\\n\\t\\t\\t\\t\"How do I reach you?\",\\n\\t\\t\\t\\t\"How do I get in touch with you?\",\\n\\t\\t\\t\\t\"What\\'s the best way to contact you?\",\\n\\t\\t\\t\\t\"Do you have an email address?\",\\n\\t\\t\\t\\t\"Is there a way to email you?\",\\n\\t\\t\\t\\t\"Can I reach out to you via email?\",\\n\\t\\t\\t\\t\"Can you give me your contact number?\",\\n\\t\\t\\t\\t\"What is the best way to get in touch with your restaurant?\",\\n\\t\\t\\t\\t\"What is your phone number?\",\\n\\t\\t\\t\\t\"What are your phone lines?\",\\n\\t\\t\\t\\t\"Can I have your email address?\",\\n\\t\\t\\t\\t\"Can you provide your contact details?\",\\n\\t\\t\\t\\t\"How can I get in touch with your business?\",\\n\\t\\t\\t\\t\"What\\'s your email address?\",\\n\\t\\t\\t\\t\"How do I contact your restaurant?\",\\n\\t\\t\\t\\t\"How can I reach your restaurant?\",\\n\\t\\t\\t\\t\"How do I make a reservation?\",\\n\\t\\t\\t\\t\"How do I book a table?\",\\n\\t\\t\\t\\t\"What is the best way to make a reservation?\",\\n\\t\\t\\t\\t\"How can I contact you\",\\n\\t\\t\\t\\t\"What\\'s your phone number\",\\n\\t\\t\\t\\t\"Can I call you\",\\n\\t\\t\\t\\t\"May I have your contact information\",\\n\\t\\t\\t\\t\"What are your contact details\",\\n\\t\\t\\t\\t\"Can you provide your phone number\",\\n\\t\\t\\t\\t\"How do I reach you\",\\n\\t\\t\\t\\t\"How do I get in touch with you\",\\n\\t\\t\\t\\t\"What\\'s the best way to contact you\",\\n\\t\\t\\t\\t\"Do you have an email address\",\\n\\t\\t\\t\\t\"Is there a way to email you\",\\n\\t\\t\\t\\t\"Can I reach out to you via email\",\\n\\t\\t\\t\\t\"Can you give me your contact number\",\\n\\t\\t\\t\\t\"What is the best way to get in touch with your restaurant\",\\n\\t\\t\\t\\t\"What is your phone number\",\\n\\t\\t\\t\\t\"What are your phone lines\",\\n\\t\\t\\t\\t\"Can I have your email address\",\\n\\t\\t\\t\\t\"Can you provide your contact details\",\\n\\t\\t\\t\\t\"How can I get in touch with your business\",\\n\\t\\t\\t\\t\"What\\'s your email address\",\\n\\t\\t\\t\\t\"How do I contact your restaurant\",\\n\\t\\t\\t\\t\"How can I reach your restaurant\",\\n\\t\\t\\t\\t\"How do I make a reservation\",\\n\\t\\t\\t\\t\"How do I book a table\",\\n\\t\\t\\t\\t\"What is the best way to make a reservation\"\\n\\t\\t\\t],\\n\\t\\t\\t\"responses\": [\\n\\t\\t\\t\\t\"Feel free to call us at (669)-224-0833 from 11 am-9pm on everyday except Mondays\",\\n\\t\\t\\t\\t\"Please give us a call at (669)-224-0833 from 11 am-9pm on everyday except Mondays\",\\n\\t\\t\\t\\t\"We would love to hear from you! You can contact us at (669)-224-0833 from 11 am-9pm on everyday except Mondays\"\\n\\t\\t\\t],\\n\\t\\t\\t\"context_set\": \"\"\\n\\t\\t},\\n\\n\\t\\t{\\n\\t\\t\\t\"tag\": \"payments\",\\n\\t\\t\\t\"patterns\": [\\n\\t\\t\\t\\t\"Do you take credit cards?\",\\n\\t\\t\\t\\t\"Do you accept Mastercard?\",\\n\\t\\t\\t\\t\"Are you cash only?\",\\n\\t\\t\\t\\t\"What payment methods do you accept?\",\\n\\t\\t\\t\\t\"Can I pay with a credit card?\",\\n\\t\\t\\t\\t\"Do you accept debit cards?\",\\n\\t\\t\\t\\t\"Do you take Visa?\",\\n\\t\\t\\t\\t\"Can I pay with cash?\",\\n\\t\\t\\t\\t\"Do you accept American Express?\",\\n\\t\\t\\t\\t\"What cards do you accept?\",\\n\\t\\t\\t\\t\"Do you take checks?\",\\n\\t\\t\\t\\t\"Do you accept Apple Pay?\",\\n\\t\\t\\t\\t\"Can I use Google Pay?\",\\n\\t\\t\\t\\t\"Do you accept PayPal?\",\\n\\t\\t\\t\\t\"What are the payment options?\",\\n\\t\\t\\t\\t\"How can I pay?\",\\n\\t\\t\\t\\t\"Is it card only?\",\\n\\t\\t\\t\\t\"Do you have a cashless policy?\",\\n\\t\\t\\t\\t\"Do you accept contactless payments?\",\\n\\t\\t\\t\\t\"Can I use my credit card?\"\\n\\t\\t\\t],\\n\\t\\t\\t\"responses\": [\\n\\t\\t\\t\\t\"We accept VISA, Mastercard and AMEX\",\\n\\t\\t\\t\\t\"We accept most major credit cards\"\\n\\t\\t\\t],\\n\\t\\t\\t\"context_set\": \"\"\\n\\t\\t},\\n\\t\\t{\\n\\t\\t\\t\"tag\": \"todaysmenu\",\\n\\t\\t\\t\"patterns\": [\\n\\t\\t\\t\\t\"What is your menu for today?\",\\n\\t\\t\\t\\t\"What are you serving today?\",\\n\\t\\t\\t\\t\"What is today\\'s special?\",\\n\\t\\t\\t\\t\"What\\'s on the menu?\",\\n\\t\\t\\t\\t\"What are today\\'s specials?\",\\n\\t\\t\\t\\t\"Any new dishes today?\",\\n\\t\\t\\t\\t\"What should I try today?\",\\n\\t\\t\\t\\t\"What\\'s the special?\",\\n\\t\\t\\t\\t\"What do you recommend today?\",\\n\\t\\t\\t\\t\"What are the daily specials?\",\\n\\t\\t\\t\\t\"What\\'s good today?\",\\n\\t\\t\\t\\t\"What\\'s the best thing on the menu today?\",\\n\\t\\t\\t\\t\"What\\'s new on the menu?\",\\n\\t\\t\\t\\t\"What\\'s your chef\\'s recommendation?\",\\n\\t\\t\\t\\t\"What\\'s the most popular dish today?\",\\n\\t\\t\\t\\t\"What\\'s your top dish for today?\",\\n\\t\\t\\t\\t\"What are the chef\\'s specials?\",\\n\\t\\t\\t\\t\"What\\'s the dish of the day?\",\\n\\t\\t\\t\\t\"Any special offers today?\",\\n\\t\\t\\t\\t\"What are the featured items?\"\\n\\t\\t\\t],\\n\\t\\t\\t\"responses\": [\\n\\t\\t\\t\\t\"Our menu is a daily changing menu as we prepare everything from scratch on the same day, Please visit https://www.suggioota.com/order-online for more information.\",\\n\\t\\t\\t\\t\"Our daily changing menu features only fresh, made-from-scratch meals, using the best seasonal ingredients. Please visit https://www.suggioota.com/order-online to explore our menu.\"\\n\\t\\t\\t],\\n\\t\\t\\t\"context_set\": \"\"\\n\\t\\t},\\n\\t\\t{\\n\\t\\t\\t\"tag\": \"deliveryoption\",\\n\\t\\t\\t\"patterns\": [\\n\\t\\t\\t\\t\"Do you provide home delivery?\",\\n\\t\\t\\t\\t\"Do you deliver the food?\",\\n\\t\\t\\t\\t\"What are the home delivery options?\",\\n\\t\\t\\t\\t\"Do you offer delivery?\",\\n\\t\\t\\t\\t\"Is there a delivery option?\",\\n\\t\\t\\t\\t\"Can I get my food delivered?\",\\n\\t\\t\\t\\t\"What delivery services do you use?\",\\n\\t\\t\\t\\t\"How does delivery work?\",\\n\\t\\t\\t\\t\"Do you have a delivery service?\",\\n\\t\\t\\t\\t\"Can you deliver to my house?\",\\n\\t\\t\\t\\t\"Do you partner with any delivery apps?\",\\n\\t\\t\\t\\t\"Which delivery apps do you work with?\",\\n\\t\\t\\t\\t\"Can I order delivery?\",\\n\\t\\t\\t\\t\"What\\'s your delivery range?\",\\n\\t\\t\\t\\t\"How much is delivery?\",\\n\\t\\t\\t\\t\"Is there a delivery fee?\",\\n\\t\\t\\t\\t\"How long does delivery take?\",\\n\\t\\t\\t\\t\"Do you do contactless delivery?\",\\n\\t\\t\\t\\t\"Can I track my delivery?\"\\n\\t\\t\\t],\\n\\t\\t\\t\"responses\": [\\n\\t\\t\\t\\t\"Yes, we provide home delivery through Doordash, Uber Eats, Grubhub, and LemonHat\",\\n\\t\\t\\t\\t\"We have home delivery options through Doordash, Uber Eats, Grubhub, and LemonHat\"\\n\\t\\t\\t],\\n\\t\\t\\t\"context_set\": \"food\"\\n\\t\\t},\\n\\t\\t{\\n\\t\\t\\t\"tag\": \"menu\",\\n\\t\\t\\t\"patterns\": [\\n\\t\\t\\t\\t\"What is your Menu?\",\\n\\t\\t\\t\\t\"What are the main course options?\",\\n\\t\\t\\t\\t\"Can you tell me the most delicious dish from the menu?\",\\n\\t\\t\\t\\t\"What is the today\\'s special?\",\\n\\t\\t\\t\\t\"What do you serve?\",\\n\\t\\t\\t\\t\"Can I see the menu?\",\\n\\t\\t\\t\\t\"What\\'s on the menu?\",\\n\\t\\t\\t\\t\"What are your best dishes?\",\\n\\t\\t\\t\\t\"What do you recommend?\",\\n\\t\\t\\t\\t\"Tell me about your menu\",\\n\\t\\t\\t\\t\"What kind of food do you have?\",\\n\\t\\t\\t\\t\"What\\'s your most popular dish?\",\\n\\t\\t\\t\\t\"Do you have any signature dishes?\",\\n\\t\\t\\t\\t\"What are your top menu items?\",\\n\\t\\t\\t\\t\"What kind of cuisine do you serve?\",\\n\\t\\t\\t\\t\"What are your appetizers?\",\\n\\t\\t\\t\\t\"What are your desserts?\",\\n\\t\\t\\t\\t\"What are your specials?\",\\n\\t\\t\\t\\t\"What are your vegan options?\",\\n\\t\\t\\t\\t\"Do you have gluten-free options?\"\\n\\t\\t\\t],\\n\\t\\t\\t\"responses\": [\\n\\t\\t\\t\\t\"You can visit https://www.suggioota.com/order-online for menu options\",\\n\\t\\t\\t\\t\"You can check out the food menu at https://www.suggioota.com/order-online\"\\n\\t\\t\\t],\\n\\t\\t\\t\"context_filter\": \"food\"\\n\\t\\t},\\n\\t\\t{\\n\\t\\t\\t\"tag\": \"order\",\\n\\t\\t\\t\"patterns\": [\\n\\t\\t\\t\\t\"I\\'d like to order\",\\n\\t\\t\\t\\t\"Can you take my order?\",\\n\\t\\t\\t\\t\"What do you have on the menu?\",\\n\\t\\t\\t\\t\"What\\'s good to eat?\",\\n\\t\\t\\t\\t\"What\\'s your recommendation?\",\\n\\t\\t\\t\\t\"Can you suggest something?\",\\n\\t\\t\\t\\t\"What do you suggest?\",\\n\\t\\t\\t\\t\"I want to place an order\",\\n\\t\\t\\t\\t\"Can I order some food?\",\\n\\t\\t\\t\\t\"How can I order?\",\\n\\t\\t\\t\\t\"order food\",\\n\\t\\t\\t\\t\"i want to order\",\\n\\t\\t\\t\\t\"What\\'s the best thing to order?\",\\n\\t\\t\\t\\t\"What should I get?\",\\n\\t\\t\\t\\t\"What do you think I should try?\",\\n\\t\\t\\t\\t\"I need help deciding what to order\",\\n\\t\\t\\t\\t\"I\\'m not sure what to get\",\\n\\t\\t\\t\\t\"I can\\'t decide what to order\",\\n\\t\\t\\t\\t\"What are your customer favorites?\",\\n\\t\\t\\t\\t\"What would you recommend for a first-timer?\",\\n\\t\\t\\t\\t\"What\\'s a must-try dish?\",\\n\\t\\t\\t\\t\"What\\'s a good option for lunch?\"\\n\\t\\t\\t],\\n\\t\\t\\t\"responses\": [\\n\\t\\t\\t\\t\"Sure, You can place your order online at https://www.suggioota.com/order-online\",\\n\\t\\t\\t\\t\"Of course, You can place your order online at https://www.suggioota.com/order-online\",\\n\\t\\t\\t\\t\"We have many great options to choose from, You can place your order online at https://www.suggioota.com/order-online\"\\n\\t\\t\\t],\\n\\t\\t\\t\"context_set\": \"\"\\n\\t\\t},\\n\\t\\t{\\n\\t\\t\\t\"tag\": \"Greetings\",\\n\\t\\t\\t\"patterns\": [\"Hi\", \"How are you\", \"Is anyone there?\", \"Hello\", \"Good day\"],\\n\\t\\t\\t\"responses\": [\"Hello, thanks for visiting!\", \"Good to see you again!\", \"Hi there, how can I help?\"],\\n\\t\\t\\t\"context_set\": \"\"\\n\\t\\t},\\n\\n\\t\\t{\\n\\t\\t\\t\"tag\": \"Hours\",\\n\\t\\t\\t\"patterns\": [\"Can I order dinner for today?\", \"Are you guys open today?\", \"What are your opening hours?\", \"What time do you open and close?\"],\\n\\t\\t\\t\"responses\": [\"We\\'re open Tuesday-Friday 11:30AM - 2:00PM, 5:00PM - 8:00PM  and Weekends is 11:00AM - 2:00PM.\", \"Our working hours for weekday Tuesday-Friday is 11:30AM - 2:00PM, 5:00PM - 8:00PM  and Weekends is 11:00AM - 2:00PM.\"],\\n\\t\\t\\t\"context_set\": \"\"\\n\\t\\t},\\n\\n\\t\\t{\\n\\t\\t\\t\"tag\": \"Waiting_time\",\\n\\t\\t\\t\"patterns\": [\"What\\xe2\\x80\\x99s the waiting time during the peak hours?\", \"How long does it take to get the order?\"],\\n\\t\\t\\t\"responses\": [\"As you place the order before there is no wait time. But if you place the order the same day the wait time would be an hour or two depending on the number of orders received prior.\", \"Usually there is no wait time as the order is placed before.\"],\\n\\t\\t\\t\"context_set\": \"\"\\n\\t\\t},\\n\\n\\t\\t{\\n\\t\\t\\t\"tag\": \"Dining_option\",\\n\\t\\t\\t\"patterns\": [\"Do you have a dine in option or is it take out only?\", \"Do you do home delivery?\"],\\n\\t\\t\\t\"responses\": [\"We provide takeouts or home delivery only.\", \"Yes we provide home delivery or takeaway options.\"],\\n\\t\\t\\t\"context_set\": \"\"\\n\\t\\t},\\n\\n\\t\\t{\\n\\t\\t\\t\"tag\": \"Ingredients\",\\n\\t\\t\\t\"patterns\": [\"Do you use garlic in your dishes?\"],\\n\\t\\t\\t\"responses\": [\"Yes we do add garlic but you can customize accordingly.\", \"Yea we do use. But if it\\xe2\\x80\\x99s caterings and special request we don\\xe2\\x80\\x99t use.\"],\\n\\t\\t\\t\"context_set\": \"\"\\n\\t\\t},\\n\\n\\t\\t{\\n\\t\\t\\t\"tag\": \"Item_specific_order\",\\n\\t\\t\\t\"patterns\": [\"Can I order Jolada Rotti?\"],\\n\\t\\t\\t\"responses\": [\"Yes we do add Thanks for reaching out. At this point of time we do not sell only holige or Jolada Roti.\"],\\n\\t\\t\\t\"context_set\": \"\"\\n\\t\\t},\\n\\n\\t\\t{\\n\\t\\t\\t\"tag\": \"Orders\",\\n\\t\\t\\t\"patterns\": [\"How can I place an order on Suggi bites for today?\", \"Can I place an order for chaats?\", \"Can I order for today?\", \"We will like to place an order for 2 festive thali?\", \"Where can I order Sankranti Menu?\", \"How can I place a pickup order for tomorrow?\"],\\n\\t\\t\\t\"responses\": [\"Please call us on +1(669)2240833 to place an order or Order it on UberEats/DoorDash.\", \"The Menu will be available in the morning of the same day on UberEats/DoorDash or directly call +1(669)2240833.\"],\\n\\t\\t\\t\"context_set\": \"\"\\n\\t\\t},\\n\\n\\t\\t{\\n\\t\\t\\t\"tag\": \"Rates\",\\n\\t\\t\\t\"patterns\": [\"What is the price of postnatal laddu and how many pieces will a box contain?\", \"What is the price of Chapati?\", \"When are Suggi bites available?\", \"I am looking to host a party for 25 people. Can you tell what are the meal combos available with the prices?\"],\\n\\t\\t\\t\"responses\": [\"Please check on the website or contact on +1(669)2240833 for more details.\"],\\n\\t\\t\\t\"context_set\": \"\"\\n\\t\\t},\\n\\n\\t\\t{\\n\\t\\t\\t\"tag\": \"Availability_of_items\",\\n\\t\\t\\t\"patterns\": [\"When is masala puri sold?\", \"I want to order masala puri?\"],\\n\\t\\t\\t\"responses\": [\"We serve chaats from Tuesday to Sunday from 5pm-8:30pm.\", \"Chaats are served only in the evening from Tuesday to Sunday from 5pm-8:30pm.\"],\\n\\t\\t\\t\"context_set\": \"\"\\n\\t\\t},\\n\\n\\t\\t{\\n\\t\\t\\t\"tag\": \"Franchise\",\\n\\t\\t\\t\"patterns\": [\"Are you in Dallas?\"],\\n\\t\\t\\t\"responses\": [\"Unfortunately we don\\'t have any franchise.\"],\\n\\t\\t\\t\"context_set\": \"\"\\n\\t\\t},\\n\\n\\n\\t\\t{\\n\\t\\t\\t\"tag\": \"Offers\",\\n\\t\\t\\t\"patterns\": [\"Do you have any discounts?\", \"Are there any ongoing offers or discount?\", \"Are there any current discounts or promotions?\", \"Do you offer any student or senior discounts?\", \"What is the discount for large groups?\"],\\n\\t\\t\\t\"responses\": [\"Currently we don\\xe2\\x80\\x99t have any offers but surely have some discounts on some festival time\", \"Yes, we have some ongoing discounts and promotions. Please check our website or call us for more information.\", \"We offer a 10% discount for students and seniors with valid IDs.\", \"For groups of 10 or more, we offer a 15% discount on the total bill.\"],\\n\\t\\t\\t\"context_set\": \"\"\\n\\t\\t},\\n\\n\\t\\t{\\n\\t\\t\\t\"tag\": \"Customer_support\",\\n\\t\\t\\t\"patterns\": [\"Unable to call the restaurant\"],\\n\\t\\t\\t\"responses\": [\"Re-try calling again. The number is +1(669)2240833\"],\\n\\t\\t\\t\"context_set\": \"\"\\n\\t\\t},\\n\\n\\t\\t{\\n\\t\\t\\t\"tag\": \"Customer_Feedback\",\\n\\t\\t\\t\"patterns\": [\"What items are available and unavailable are difficult to understand?\"],\\n\\t\\t\\t\"responses\": [\"Please select a pickup date and you will get the options for that particular day. \"],\\n\\t\\t\\t\"context_set\": \"\"\\n\\t\\t},\\n\\n\\t\\t{\\n\\t\\t\\t\"tag\": \"Online_order\",\\n\\t\\t\\t\"patterns\": [\"Which is the ordering app?\", \"From where can I place an order?\"],\\n\\t\\t\\t\"responses\": [\"Our ordering app is dinebywix. Download it from the app store.\"],\\n\\t\\t\\t\"context_set\": \"\"\\n\\t\\t},\\n\\n\\t\\t{\\n\\t\\t\\t\"tag\": \"Order_Issues\",\\n\\t\\t\\t\"patterns\": [\"I didn\\xe2\\x80\\x99t receive the dessert with my order?\", \"I just got 4 rotis but I ordered 6?\"],\\n\\t\\t\\t\"responses\": [\"We are sorry for the inconvenience caused. You will get the refund for the same.\", \"Thanks for letting us know. We will refund you the amount.\"],\\n\\t\\t\\t\"context_set\": \"\"\\n\\t\\t},\\n\\n\\t\\t{\\n\\t\\t\\t\"tag\": \"Time_brunch\",\\n\\t\\t\\t\"patterns\": [\"What time is the brunch menu available?\", \"When is the brunch available?\"],\\n\\t\\t\\t\"responses\": [\"For 11:30AM on Saturday and 12:00PM on Sunday.\"],\\n\\t\\t\\t\"context_set\": \"\"\\n\\t\\t},\\n\\n\\t\\t{\\n\\t\\t\\t\"tag\": \"Menu_issue\",\\n\\t\\t\\t\"patterns\": [\"What is Saturday\\xe2\\x80\\x99s Menu?\", \"I don\\'t see any menu on the website?\", \"Why the menu has not been displayed?\"],\\n\\t\\t\\t\"responses\": [\"Please check on the website or contact on +1(669)2240833 or more details \"],\\n\\t\\t\\t\"context_set\": \"\"\\n\\t\\t},\\n\\n\\t\\t{\\n\\t\\t\\t\"tag\": \"Vegetarian\",\\n\\t\\t\\t\"patterns\": [\"Is this hotel 100% vegetarian ?\", \"Do you serve non-veg \"],\\n\\t\\t\\t\"responses\": [\"We are 100% vegetarian serving delicious food.\"],\\n\\t\\t\\t\"context_set\": \"\"\\n\\t\\t},\\n\\n\\t\\t{\\n\\t\\t\\t\"tag\": \"Vegetarian_options\",\\n\\t\\t\\t\"patterns\": [\"What are the different Vegetarian or Vegan options available ?\", \"Suggest me some good Veg options?\"],\\n\\t\\t\\t\"responses\": [\"We have a variety of vegetarian options like Paneer Tikka, Paratha\\xe2\\x80\\x99s, different veggie platters and much more.\", \"We serve a wide range of vegetarian food like Paneer Butter Masala with Kulcha, Noodles, chaats, starters, soups, and much more.\"],\\n\\t\\t\\t\"context_set\": \"\"\\n\\t\\t},\\n\\n\\t\\t{\\n\\t\\t\\t\"tag\": \"Breakfast\",\\n\\t\\t\\t\"patterns\": [\"Do you have any breakfast combos?\", \"Do you have breakfast options?\", \"Is breakfast served all day?\"],\\n\\t\\t\\t\"responses\": [\"We provide breakfast combos only on weekends.\", \"Breakfast is served on weekends.\"],\\n\\t\\t\\t\"context_set\": \"\"\\n\\t\\t},\\n\\n\\t\\t{\\n\\t\\t\\t\"tag\": \"Order_Outstate\",\\n\\t\\t\\t\"patterns\": [\"How to order for patrons out of state?\"],\\n\\t\\t\\t\"responses\": [\"Plan a vacation to Bay Area.\"],\\n\\t\\t\\t\"context_set\": \"\"\\n\\t\\t},\\n\\n\\t\\t{\\n\\t\\t\\t\"tag\": \"Minimum_order_requirement\",\\n\\t\\t\\t\"patterns\": [\"Do you need any minimum count for catering?\", \"When will the order get ready at earliest?\"],\\n\\t\\t\\t\"responses\": [\"If you customize the order we will need the minimum count but if you\\'re ordering from the regular menu no minimum count is required. For more details please contact us on +1(669)2240833\", \"Please contact us on +1(669)2240833\"],\\n\\t\\t\\t\"context_set\": \"\"\\n\\t\\t},\\n\\n\\t\\t{\\n\\t\\t\\t\"tag\": \"Menu_Display\",\\n\\t\\t\\t\"patterns\": [\"I don\\xe2\\x80\\x99t see Saturday\\xe2\\x80\\x99s Menu on UberEats/DoorDash?\", \"When is the menu available for ordering?\"],\\n\\t\\t\\t\"responses\": [\"The menu will be displayed in the morning on the same day.\"],\\n\\t\\t\\t\"context_set\": \"\"\\n\\t\\t},\\n\\n\\n\\t\\t{\\n\\t\\t\\t\"tag\": \"Delivery\",\\n\\t\\t\\t\"patterns\": [\"How can I get the food delivered in Newark, CA?\", \"Do you offer delivery?\", \"Can I get food delivered to my home?\"],\\n\\t\\t\\t\"responses\": [\"You can place order from lemonhat app if Doordash/UberEats don\\xe2\\x80\\x99t cover your area.\", \"Yes, we offer delivery. You can place an order by calling us or ordering online through our website.\"],\\n\\t\\t\\t\"context_set\": \"\"\\n\\t\\t},\\n\\n\\t\\t{\\n\\t\\t\\t\"tag\": \"Speciality\",\\n\\t\\t\\t\"patterns\": [\"What\\xe2\\x80\\x99s your signature dish?\", \"What is your speciality?\", \"What\\xe2\\x80\\x99s special dish of your restaurant?\"],\\n\\t\\t\\t\"responses\": [\"Our traditional thalis, chaats, Suggi bites are the signature and popular dishes.\", \"You must try our delicious meal combos, chaats, Suggi bites.\"],\\n\\t\\t\\t\"context_set\": \"\"\\n\\t\\t},\\n\\n\\t\\t{\\n\\t\\t\\t\"tag\": \"Customer_Service\",\\n\\t\\t\\t\"patterns\": [\"How can I get the food delivered in Newark, CA?\"],\\n\\t\\t\\t\"responses\": [\"You can place order from lemonhat app if Doordash/UberEats don\\xe2\\x80\\x99t cover your area.\"],\\n\\t\\t\\t\"context_set\": \"\"\\n\\t\\t},\\n\\n\\t\\t{\\n\\t\\t\\t\"tag\": \"Reservations\",\\n\\t\\t\\t\"patterns\": [\"Do I need to reserve in advance?\", \"Is there any reservation required for the party?\", \"How do I reserve a table?\", \"Do you accept reservations?\", \"Can I make a reservation for tonight?\", \"Do I need to make a reservation in advance?\", \"How far in advance do I need to make a reservation?\"],\\n\\t\\t\\t\"responses\": [\"If you are hosting a party you need to reserve a day prior and if there are less number of people you can directly do a walkin and no prior booking is needed.\", \"Yes, we accept reservations. You can make a reservation by calling us or booking online through our website.\", \"We recommend making a reservation in advance, especially for larger groups. You can make a reservation by calling us or visiting our website.\"],\\n\\t\\t\\t\"context_set\": \"\"\\n\\t\\t},\\n\\n\\t\\t{\\n\\t\\t\\t\"tag\": \"Beverages\",\\n\\t\\t\\t\"patterns\": [\"What beverages do you serve?\", \"Do you have alcohol?\"],\\n\\t\\t\\t\"responses\": [\"We have buttermilk, lassi, canned soda, lime water options in beverages.\", \"We serve all non-alcoholic drinks like buttermilk, lassi, canned soda to name a few\"],\\n\\t\\t\\t\"context_set\": \"\"\\n\\t\\t},\\n\\n\\t\\t{\\n\\t\\t\\t\"tag\": \"Irrelevant_tags\",\\n\\t\\t\\t\"patterns\": [\"Shivu?\", \"Weather?\"],\\n\\t\\t\\t\"responses\": [\"Sorry, didn\\xe2\\x80\\x99t understand, Please try again.\", \"I apologize, please try again.\"],\\n\\t\\t\\t\"context_set\": \"\"\\n\\t\\t},\\n\\n\\t\\t{\\n\\t\\t\\t\"tag\": \"Exit\",\\n\\t\\t\\t\"patterns\": [\"Quit\", \"Exit\", \"Thanks\"],\\n\\t\\t\\t\"responses\": [\"See you soon. Thanks for visiting.\", \"GoodBye! Hope you visit us soon.\"],\\n\\t\\t\\t\"context_set\": \"\"\\n\\t\\t},\\n\\n\\t\\t{\\n\\t\\t\\t\"tag\": \"Indian_cuisine\",\\n\\t\\t\\t\"patterns\": [\"Do you serve Indian food?\", \"Any Indian options on the menu?\"],\\n\\t\\t\\t\"responses\": [\"Yes, we have a variety of Indian dishes.\", \"Our menu includes several Indian options.\"],\\n\\t\\t\\t\"context_set\": \"\"\\n\\t\\t},\\n\\n\\n\\t\\t{\\n\\t\\t\\t\"tag\": \"Outdoor_seating\",\\n\\t\\t\\t\"patterns\": [\"Do you have outdoor seating?\", \"Is there an outdoor dining area?\"],\\n\\t\\t\\t\"responses\": [\"No, we only offer takeaways, home delivery and also you can place order on Doordash/UberEats\", \"Our restaurant does not have an outdoor dining options.\"],\\n\\t\\t\\t\"context_set\": \"\"\\n\\t\\t},\\n\\n\\t\\t{\\n\\t\\t\\t\"tag\": \"Fine_dining\",\\n\\t\\t\\t\"patterns\": [\"Is this a fine dining restaurant?\", \"Do you offer upscale dining experiences?\"],\\n\\t\\t\\t\"responses\": [\"Yes, we are a fine dining establishment with a focus on high-quality cuisine and service.\", \"Our restaurant offers upscale dining experiences.\"],\\n\\t\\t\\t\"context_set\": \"\"\\n\\t\\t},\\n\\n\\t\\t{\\n\\t\\t\\t\"tag\": \"Seafood\",\\n\\t\\t\\t\"patterns\": [\"Do you serve seafood?\", \"Are there any seafood dishes on the menu?\"],\\n\\t\\t\\t\"responses\": [\"Sorry, we don\\xe2\\x80\\x99t serve any kind of seafood.\", \"We provide only pure vegetarian options.\"],\\n\\t\\t\\t\"context_set\": \"\"\\n\\t\\t},\\n\\n\\n\\t\\t{\\n\\t\\t\\t\"tag\": \"Local_cuisine\",\\n\\t\\t\\t\"patterns\": [\"Do you serve local cuisine?\", \"Are there any regional specialties on the menu?\"],\\n\\t\\t\\t\"responses\": [\"Yes, we feature local cuisine and regional specialties on our menu.\", \"Our restaurant offers a taste of the local cuisine.\"],\\n\\t\\t\\t\"context_set\": \"\"\\n\\t\\t},\\n\\n\\n\\t\\t{\\n\\t\\t\\t\"tag\": \"Alcohol_options\",\\n\\t\\t\\t\"patterns\": [\"Do you serve alcohol?\", \"Is there a bar at the restaurant?\"],\\n\\t\\t\\t\"responses\": [\"No, we don\\xe2\\x80\\x99t serve any type of alcohol.\", \"Our restaurant is known for serving the best vegetarian food only.\", \"No, we don\\xe2\\x80\\x99t serve any alcohol.\"],\\n\\t\\t\\t\"context_set\": \"\"\\n\\t\\t},\\n\\n\\t\\t{\\n\\t\\t\\t\"tag\": \"Tandoori_cuisine\",\\n\\t\\t\\t\"patterns\": [\"Do you serve tandoori dishes?\", \"Any tandoori specialties on the menu?\"],\\n\\t\\t\\t\"responses\": [\"Yes, we have a range of tandoori dishes available.\", \"Our menu includes several delicious tandoori options.\"],\\n\\t\\t\\t\"context_set\": \"\"\\n\\t\\t},\\n\\n\\t\\t{\\n\\t\\t\\t\"tag\": \"Spicy_food\",\\n\\t\\t\\t\"patterns\": [\"Do you serve spicy food?\", \"Are there any extra-spicy dishes on the menu?\"],\\n\\t\\t\\t\"responses\": [\"Yes, we have a number of spicy options available.\", \"We can customize the dish according to the spice level you want.\", \"We can adjust the dish to your preferred level of spiciness.\"],\\n\\t\\t\\t\"context_set\": \"\"\\n\\t\\t},\\n\\n\\n\\t\\t{\\n\\t\\t\\t\"tag\": \"Lunch_hours\",\\n\\t\\t\\t\"patterns\": [\"What are your lunch hours?\", \"What time do you serve lunch?\"],\\n\\t\\t\\t\"responses\": [\"We serve lunch from 11:30AM to 2:00PM.\", \"Our lunch hours are from 11:30AM to 2:00PM.\"],\\n\\t\\t\\t\"context_set\": \"\"\\n\\t\\t},\\n\\n\\t\\t{\\n\\t\\t\\t\"tag\": \"Dinner_hours\",\\n\\t\\t\\t\"patterns\": [\"What are your dinner hours?\", \"What time do you serve dinner?\"],\\n\\t\\t\\t\"responses\": [\"We serve dinner from 5:00PM to 8:00PM.\", \"Our dinner hours are from 5:00PM to 8:00PM.\"],\\n\\t\\t\\t\"context_set\": \"\"\\n\\t\\t},\\n\\n\\t\\t{\\n\\t\\t\\t\"tag\": \"Weekend_hours\",\\n\\t\\t\\t\"patterns\": [\"What are your weekend hours?\", \"What time do you open and close on weekends?\"],\\n\\t\\t\\t\"responses\": [\"On weekends, we are open from 11:00AM to 2:30PM.\", \"Our weekend hours are 11:00AM to 2:30PM.\"],\\n\\t\\t\\t\"context_set\": \"\"\\n\\t\\t},\\n\\n\\t\\t{\\n\\t\\t\\t\"tag\": \"Holiday_hours\",\\n\\t\\t\\t\"patterns\": [\"What are your holiday hours?\", \"Are you open on holidays?\"],\\n\\t\\t\\t\"responses\": [\"We are open on holidays, and our hours of operation are 11:00AM to 2:20PM.\", \"Our holiday hours are 3:00PM to 5:00PM.\"],\\n\\t\\t\\t\"context_set\": \"\"\\n\\t\\t},\\n\\n\\t\\t{\\n\\t\\t\\t\"tag\": \"Brunch_hours\",\\n\\t\\t\\t\"patterns\": [\"What are your brunch hours?\", \"What time do you serve brunch?\"],\\n\\t\\t\\t\"responses\": [\"We serve brunch from 11:00AM to 2:30PM.\", \"Our brunch hours are from 11:00AM to 2:30PM.\"],\\n\\t\\t\\t\"context_set\": \"\"\\n\\t\\t},\\n\\n\\t\\t{\\n\\t\\t\\t\"tag\": \"Late_night_hours\",\\n\\t\\t\\t\"patterns\": [\"Do you have late night hours?\", \"What time do you close at night?\"],\\n\\t\\t\\t\"responses\": [\"No we don\\xe2\\x80\\x99t provide late night services.\", \"Sorry, we are open till 8:00PM only.\"],\\n\\t\\t\\t\"context_set\": \"\"\\n\\t\\t},\\n\\n\\t\\t{\\n\\t\\t\\t\"tag\": \"Special_hours\",\\n\\t\\t\\t\"patterns\": [\"Do you have any special hours?\", \"Are your hours different on certain days?\"],\\n\\t\\t\\t\"responses\": [\"We may have special hours on certain days, please check our website or call us for more information.\", \"Our hours may vary on certain days, please check our website or call us for more information.\"],\\n\\t\\t\\t\"context_set\": \"\"\\n\\t\\t},\\n\\n\\t\\t{\\n\\t\\t\\t\"tag\": \"Spice_level\",\\n\\t\\t\\t\"patterns\": [\"How spicy are your dishes?\", \"Do you offer mild options for spicy dishes?\"],\\n\\t\\t\\t\"responses\": [\"Our dishes have varying levels of spiciness. We offer mild options for those who prefer less spicy food.\", \"We can customize the spice level according to the customer\\'s choice.\"],\\n\\t\\t\\t\"context_set\": \"\"\\n\\t\\t},\\n\\n\\t\\t{\\n\\t\\t\\t\"tag\": \"Location\",\\n\\t\\t\\t\"patterns\": [\"Where is your restaurant located?\", \"Can you give me directions to your restaurant?\"],\\n\\t\\t\\t\"responses\": [\"Our restaurant is located at 949 Ruff Drive, San Jose, CA, USA, K-31. Here are the directions: https://www.google.com/maps/dir/?api=1&destination=949%20Ruff%20Dr,%20San%20Jose,%20CA%2095110,%20USA .\"],\\n\\t\\t\\t\"context_set\": \"\"\\n\\t\\t},\\n\\t\\t{\\n\\t\\t\\t\"tag\": \"Vegan\",\\n\\t\\t\\t\"patterns\": [\"Do you have vegan options?\", \"Are any of your dishes vegan?\"],\\n\\t\\t\\t\"responses\": [\"Yes, we have vegan options on our menu. Just ask our servers for recommendations.\"],\\n\\t\\t\\t\"context_set\": \"\"\\n\\t\\t},\\n\\t\\t{\\n\\t\\t\\t\"tag\": \"Gluten_free\",\\n\\t\\t\\t\"patterns\": [\"Do you have gluten-free options?\", \"Are any of your dishes gluten-free?\"],\\n\\t\\t\\t\"responses\": [\"Yes, we have gluten-free options on our menu. Just ask our servers for recommendations.\"],\\n\\t\\t\\t\"context_set\": \"\"\\n\\t\\t},\\n\\t\\t{\\n\\t\\t\\t\"tag\": \"Price\",\\n\\t\\t\\t\"patterns\": [\"What is the average price range for your menu?\", \"How much should I expect to spend at your restaurant?\"],\\n\\t\\t\\t\"responses\": [\"Our menu prices vary depending on the dish. On average, our dishes range from $5.\"],\\n\\t\\t\\t\"context_set\": \"\"\\n\\t\\t},\\n\\n\\t\\t{\\n\\t\\t\\t\"tag\": \"Takeout\",\\n\\t\\t\\t\"patterns\": [\"Do you offer takeout?\", \"Can I order takeout?\"],\\n\\t\\t\\t\"responses\": [\"Yes, we offer takeout. You can place an order by calling us or ordering online through our website.\"],\\n\\t\\t\\t\"context_set\": \"\"\\n\\t\\t},\\n\\n\\t\\t{\\n\\t\\t\\t\"tag\": \"Allergies\",\\n\\t\\t\\t\"patterns\": [\"Do you offer gluten-free options?\", \"What about nut allergies?\"],\\n\\t\\t\\t\"responses\": [\"Yes, we offer gluten-free and nut-free options. Please inform us of any allergies when you place your order.\", \"The order can be customized according to the customer\\xe2\\x80\\x99s choice\"],\\n\\t\\t\\t\"context_set\": \"\"\\n\\t\\t},\\n\\n\\n\\t\\t{\\n\\t\\t\\t\"tag\": \"Payment\",\\n\\t\\t\\t\"patterns\": [\"What types of payment do you accept?\"],\\n\\t\\t\\t\"responses\": [\"We accept cash and all major credit/debit cards.\"],\\n\\t\\t\\t\"context_set\": \"\"\\n\\t\\t},\\n\\n\\t\\t{\\n\\t\\t\\t\"tag\": \"Halal\",\\n\\t\\t\\t\"patterns\": [\"Do you serve halal food?\"],\\n\\t\\t\\t\"responses\": [\"No, we serve only vegetarian food.\"],\\n\\t\\t\\t\"context_set\": \"\"\\n\\t\\t},\\n\\n\\t\\t{\\n\\t\\t\\t\"tag\": \"Kids_menu\",\\n\\t\\t\\t\"patterns\": [\"Do you have a kids\\' menu?\"],\\n\\t\\t\\t\"responses\": [\"Yes, we have a kids\\' menu with options that are perfect for younger diners.\"],\\n\\t\\t\\t\"context_set\": \"\"\\n\\t\\t},\\n\\n\\t\\t{\\n\\t\\t\\t\"tag\": \"Takeout_time\",\\n\\t\\t\\t\"patterns\": [\"How long will it take to prepare my takeout order?\"],\\n\\t\\t\\t\"responses\": [\"The time it takes to prepare your takeout order will depend on the items you have ordered and our current volume of orders. Please ask when you place your order.\"],\\n\\t\\t\\t\"context_set\": \"\"\\n\\t\\t},\\n\\n\\t\\t{\\n\\t\\t\\t\"tag\": \"Parking\",\\n\\t\\t\\t\"patterns\": [\"Is there parking available?\", \"Where can I park my car?\"],\\n\\t\\t\\t\"responses\": [\"Yes, there is parking available.\", \"Parking can be found at 949 Ruff Dr, San Jose, CA 95110.\"]\\n\\t\\t},\\n\\t\\t{\\n\\t\\t\\t\"tag\": \"Chef_special\",\\n\\t\\t\\t\"patterns\": [\"What is the chef\\'s special today?\", \"What dishes would you recommend?\"],\\n\\t\\t\\t\"responses\": [\"Our chef\\'s special today is Suggi Bites.\", \"We highly recommend trying Combos.\"]\\n\\t\\t},\\n\\n\\n\\t\\t{\\n\\t\\t\\t\"tag\": \"feedback_food_quality\",\\n\\t\\t\\t\"patterns\": [\"How was the quality of the food?\", \"Did you enjoy the food?\", \"How was the taste of the food?\"],\\n\\t\\t\\t\"responses\": [\"We strive to provide high quality and delicious food. We apologize if your experience fell short of your expectations.\", \"We are glad you enjoyed your meal. Thank you for your feedback!\"],\\n\\t\\t\\t\"context_set\": \"\"\\n\\t\\t},\\n\\n\\t\\t{\\n\\t\\t\\t\"tag\": \"feedback_service_quality\",\\n\\t\\t\\t\"patterns\": [\"How was the service?\", \"Did the staff attend to your needs?\", \"Were the servers friendly and attentive?\"],\\n\\t\\t\\t\"responses\": [\"We are committed to providing excellent service to our customers. We apologize if your experience fell short of your expectations.\", \"Thank you for your feedback. We will strive to improve our service in the future.\"],\\n\\t\\t\\t\"context_set\": \"\"\\n\\t\\t},\\n\\n\\t\\t{\\n\\t\\t\\t\"tag\": \"feedback_cleanliness\",\\n\\t\\t\\t\"patterns\": [\"How was the cleanliness of the restaurant?\", \"Was the restaurant kitchen clean and hygienic?\"],\\n\\t\\t\\t\"responses\": [\"We take cleanliness and hygiene very seriously. We apologize if you did not find our restaurant up to your standards.\", \"Thank you for bringing this to our attention. We will take steps to ensure a clean and hygienic environment for our customers.\"],\\n\\t\\t\\t\"context_set\": \"\"\\n\\t\\t},\\n\\n\\t\\t{\\n\\t\\t\\t\"tag\": \"feedback_price\",\\n\\t\\t\\t\"patterns\": [\"Did you find the prices reasonable?\", \"How was the value for money?\"],\\n\\t\\t\\t\"responses\": [\"We strive to provide our customers with reasonable prices for high quality food and service. We apologize if you did not find the prices to be reasonable.\", \"Thank you for your feedback. We will take your comments into consideration when evaluating our prices.\"],\\n\\t\\t\\t\"context_set\": \"\"\\n\\t\\t},\\n\\n\\t\\t{\\n\\t\\t\\t\"tag\": \"feedback_speed\",\\n\\t\\t\\t\"patterns\": [\"How was the speed of service?\", \"Did you experience any delays?\"],\\n\\t\\t\\t\"responses\": [\"We apologize if your experience was not up to our usual standards. We strive to provide prompt and efficient service to our customers.\", \"Thank you for your feedback. We will work to ensure faster service in the future.\"],\\n\\t\\t\\t\"context_set\": \"\"\\n\\t\\t},\\n\\t\\t{\\n\\t\\t\\t\"tag\": \"booking\",\\n\\t\\t\\t\"patterns\": [\"How far in advance do I need to book catering?\", \"What is the cancellation policy for catering bookings?\"],\\n\\t\\t\\t\"responses\": [\"We recommend booking catering at least two weeks in advance. Contact us for availability.\", \"Our cancellation policy for catering bookings varies depending on the circumstances. Contact us for more information.\"],\\n\\t\\t\\t\"context_set\": \"\"\\n\\t\\t},\\n\\n\\t\\t{\\n\\t\\t\\t\"tag\": \"catering_options\",\\n\\t\\t\\t\"patterns\": [\"Do you offer catering services for events?\", \"Can you cater for a large group?\"],\\n\\t\\t\\t\"responses\": [\"Yes, we offer catering services for events. Please contact us for more information.\", \"Absolutely! We can cater for any size of group. Contact us for more details.\"],\\n\\t\\t\\t\"context_set\": \"\"\\n\\t\\t},\\n\\t\\t{\\n\\t\\t\\t\"tag\": \"menu_customization\",\\n\\t\\t\\t\"patterns\": [\"Can I customize the menu for my event?\", \"Do you offer vegetarian options for catering?\"],\\n\\t\\t\\t\"responses\": [\"Yes, we can customize the menu for your event. Contact us to discuss your requirements.\", \"Yes, we offer a range of vegetarian options for catering. Contact us to discuss your requirements.\"],\\n\\t\\t\\t\"context_set\": \"\"\\n\\t\\t}\\n\\t]\\n}'}"
            ]
          },
          "metadata": {},
          "execution_count": 25
        }
      ],
      "source": [
        "from google.colab import files\n",
        "files.upload()"
      ]
    },
    {
      "cell_type": "code",
      "execution_count": null,
      "metadata": {
        "id": "e0PV8qN2C3iJ",
        "colab": {
          "base_uri": "https://localhost:8080/"
        },
        "outputId": "bdff963b-b621-430e-ee57-32db97172dd9"
      },
      "outputs": [
        {
          "output_type": "stream",
          "name": "stdout",
          "text": [
            "[==================================================] 100.0% 1662.8/1662.8MB downloaded\n"
          ]
        }
      ],
      "source": [
        "import gensim.downloader as api\n",
        "# Load pre-trained word2vec model\n",
        "model = api.load(\"word2vec-google-news-300\")"
      ]
    },
    {
      "cell_type": "code",
      "execution_count": null,
      "metadata": {
        "colab": {
          "base_uri": "https://localhost:8080/",
          "height": 484
        },
        "id": "JYPRjvkx805q",
        "outputId": "cb2493b5-07f5-4f86-dabc-2854ca7d13b7"
      },
      "outputs": [
        {
          "output_type": "stream",
          "name": "stderr",
          "text": [
            "[nltk_data] Downloading package punkt to /root/nltk_data...\n",
            "[nltk_data]   Package punkt is already up-to-date!\n",
            "[nltk_data] Downloading package wordnet to /root/nltk_data...\n",
            "[nltk_data]   Package wordnet is already up-to-date!\n",
            "[nltk_data] Downloading package stopwords to /root/nltk_data...\n",
            "[nltk_data]   Package stopwords is already up-to-date!\n"
          ]
        },
        {
          "output_type": "error",
          "ename": "JSONDecodeError",
          "evalue": "ignored",
          "traceback": [
            "\u001b[0;31m---------------------------------------------------------------------------\u001b[0m",
            "\u001b[0;31mJSONDecodeError\u001b[0m                           Traceback (most recent call last)",
            "\u001b[0;32m<ipython-input-26-588bbdc9b4b7>\u001b[0m in \u001b[0;36m<cell line: 21>\u001b[0;34m()\u001b[0m\n\u001b[1;32m     20\u001b[0m \u001b[0;31m# Load the intents data\u001b[0m\u001b[0;34m\u001b[0m\u001b[0;34m\u001b[0m\u001b[0m\n\u001b[1;32m     21\u001b[0m \u001b[0;32mwith\u001b[0m \u001b[0mopen\u001b[0m\u001b[0;34m(\u001b[0m\u001b[0;34m\"intents.json\"\u001b[0m\u001b[0;34m,\u001b[0m \u001b[0;34m\"r\"\u001b[0m\u001b[0;34m)\u001b[0m \u001b[0;32mas\u001b[0m \u001b[0mf\u001b[0m\u001b[0;34m:\u001b[0m\u001b[0;34m\u001b[0m\u001b[0;34m\u001b[0m\u001b[0m\n\u001b[0;32m---> 22\u001b[0;31m     \u001b[0mdata\u001b[0m \u001b[0;34m=\u001b[0m \u001b[0mjson\u001b[0m\u001b[0;34m.\u001b[0m\u001b[0mload\u001b[0m\u001b[0;34m(\u001b[0m\u001b[0mf\u001b[0m\u001b[0;34m)\u001b[0m\u001b[0;34m\u001b[0m\u001b[0;34m\u001b[0m\u001b[0m\n\u001b[0m\u001b[1;32m     23\u001b[0m \u001b[0;34m\u001b[0m\u001b[0m\n\u001b[1;32m     24\u001b[0m \u001b[0;31m# Preprocessing\u001b[0m\u001b[0;34m\u001b[0m\u001b[0;34m\u001b[0m\u001b[0m\n",
            "\u001b[0;32m/usr/lib/python3.10/json/__init__.py\u001b[0m in \u001b[0;36mload\u001b[0;34m(fp, cls, object_hook, parse_float, parse_int, parse_constant, object_pairs_hook, **kw)\u001b[0m\n\u001b[1;32m    291\u001b[0m     \u001b[0mkwarg\u001b[0m\u001b[0;34m;\u001b[0m \u001b[0motherwise\u001b[0m\u001b[0;31m \u001b[0m\u001b[0;31m`\u001b[0m\u001b[0;31m`\u001b[0m\u001b[0mJSONDecoder\u001b[0m\u001b[0;31m`\u001b[0m\u001b[0;31m`\u001b[0m \u001b[0;32mis\u001b[0m \u001b[0mused\u001b[0m\u001b[0;34m.\u001b[0m\u001b[0;34m\u001b[0m\u001b[0;34m\u001b[0m\u001b[0m\n\u001b[1;32m    292\u001b[0m     \"\"\"\n\u001b[0;32m--> 293\u001b[0;31m     return loads(fp.read(),\n\u001b[0m\u001b[1;32m    294\u001b[0m         \u001b[0mcls\u001b[0m\u001b[0;34m=\u001b[0m\u001b[0mcls\u001b[0m\u001b[0;34m,\u001b[0m \u001b[0mobject_hook\u001b[0m\u001b[0;34m=\u001b[0m\u001b[0mobject_hook\u001b[0m\u001b[0;34m,\u001b[0m\u001b[0;34m\u001b[0m\u001b[0;34m\u001b[0m\u001b[0m\n\u001b[1;32m    295\u001b[0m         \u001b[0mparse_float\u001b[0m\u001b[0;34m=\u001b[0m\u001b[0mparse_float\u001b[0m\u001b[0;34m,\u001b[0m \u001b[0mparse_int\u001b[0m\u001b[0;34m=\u001b[0m\u001b[0mparse_int\u001b[0m\u001b[0;34m,\u001b[0m\u001b[0;34m\u001b[0m\u001b[0;34m\u001b[0m\u001b[0m\n",
            "\u001b[0;32m/usr/lib/python3.10/json/__init__.py\u001b[0m in \u001b[0;36mloads\u001b[0;34m(s, cls, object_hook, parse_float, parse_int, parse_constant, object_pairs_hook, **kw)\u001b[0m\n\u001b[1;32m    344\u001b[0m             \u001b[0mparse_int\u001b[0m \u001b[0;32mis\u001b[0m \u001b[0;32mNone\u001b[0m \u001b[0;32mand\u001b[0m \u001b[0mparse_float\u001b[0m \u001b[0;32mis\u001b[0m \u001b[0;32mNone\u001b[0m \u001b[0;32mand\u001b[0m\u001b[0;34m\u001b[0m\u001b[0;34m\u001b[0m\u001b[0m\n\u001b[1;32m    345\u001b[0m             parse_constant is None and object_pairs_hook is None and not kw):\n\u001b[0;32m--> 346\u001b[0;31m         \u001b[0;32mreturn\u001b[0m \u001b[0m_default_decoder\u001b[0m\u001b[0;34m.\u001b[0m\u001b[0mdecode\u001b[0m\u001b[0;34m(\u001b[0m\u001b[0ms\u001b[0m\u001b[0;34m)\u001b[0m\u001b[0;34m\u001b[0m\u001b[0;34m\u001b[0m\u001b[0m\n\u001b[0m\u001b[1;32m    347\u001b[0m     \u001b[0;32mif\u001b[0m \u001b[0mcls\u001b[0m \u001b[0;32mis\u001b[0m \u001b[0;32mNone\u001b[0m\u001b[0;34m:\u001b[0m\u001b[0;34m\u001b[0m\u001b[0;34m\u001b[0m\u001b[0m\n\u001b[1;32m    348\u001b[0m         \u001b[0mcls\u001b[0m \u001b[0;34m=\u001b[0m \u001b[0mJSONDecoder\u001b[0m\u001b[0;34m\u001b[0m\u001b[0;34m\u001b[0m\u001b[0m\n",
            "\u001b[0;32m/usr/lib/python3.10/json/decoder.py\u001b[0m in \u001b[0;36mdecode\u001b[0;34m(self, s, _w)\u001b[0m\n\u001b[1;32m    335\u001b[0m \u001b[0;34m\u001b[0m\u001b[0m\n\u001b[1;32m    336\u001b[0m         \"\"\"\n\u001b[0;32m--> 337\u001b[0;31m         \u001b[0mobj\u001b[0m\u001b[0;34m,\u001b[0m \u001b[0mend\u001b[0m \u001b[0;34m=\u001b[0m \u001b[0mself\u001b[0m\u001b[0;34m.\u001b[0m\u001b[0mraw_decode\u001b[0m\u001b[0;34m(\u001b[0m\u001b[0ms\u001b[0m\u001b[0;34m,\u001b[0m \u001b[0midx\u001b[0m\u001b[0;34m=\u001b[0m\u001b[0m_w\u001b[0m\u001b[0;34m(\u001b[0m\u001b[0ms\u001b[0m\u001b[0;34m,\u001b[0m \u001b[0;36m0\u001b[0m\u001b[0;34m)\u001b[0m\u001b[0;34m.\u001b[0m\u001b[0mend\u001b[0m\u001b[0;34m(\u001b[0m\u001b[0;34m)\u001b[0m\u001b[0;34m)\u001b[0m\u001b[0;34m\u001b[0m\u001b[0;34m\u001b[0m\u001b[0m\n\u001b[0m\u001b[1;32m    338\u001b[0m         \u001b[0mend\u001b[0m \u001b[0;34m=\u001b[0m \u001b[0m_w\u001b[0m\u001b[0;34m(\u001b[0m\u001b[0ms\u001b[0m\u001b[0;34m,\u001b[0m \u001b[0mend\u001b[0m\u001b[0;34m)\u001b[0m\u001b[0;34m.\u001b[0m\u001b[0mend\u001b[0m\u001b[0;34m(\u001b[0m\u001b[0;34m)\u001b[0m\u001b[0;34m\u001b[0m\u001b[0;34m\u001b[0m\u001b[0m\n\u001b[1;32m    339\u001b[0m         \u001b[0;32mif\u001b[0m \u001b[0mend\u001b[0m \u001b[0;34m!=\u001b[0m \u001b[0mlen\u001b[0m\u001b[0;34m(\u001b[0m\u001b[0ms\u001b[0m\u001b[0;34m)\u001b[0m\u001b[0;34m:\u001b[0m\u001b[0;34m\u001b[0m\u001b[0;34m\u001b[0m\u001b[0m\n",
            "\u001b[0;32m/usr/lib/python3.10/json/decoder.py\u001b[0m in \u001b[0;36mraw_decode\u001b[0;34m(self, s, idx)\u001b[0m\n\u001b[1;32m    351\u001b[0m         \"\"\"\n\u001b[1;32m    352\u001b[0m         \u001b[0;32mtry\u001b[0m\u001b[0;34m:\u001b[0m\u001b[0;34m\u001b[0m\u001b[0;34m\u001b[0m\u001b[0m\n\u001b[0;32m--> 353\u001b[0;31m             \u001b[0mobj\u001b[0m\u001b[0;34m,\u001b[0m \u001b[0mend\u001b[0m \u001b[0;34m=\u001b[0m \u001b[0mself\u001b[0m\u001b[0;34m.\u001b[0m\u001b[0mscan_once\u001b[0m\u001b[0;34m(\u001b[0m\u001b[0ms\u001b[0m\u001b[0;34m,\u001b[0m \u001b[0midx\u001b[0m\u001b[0;34m)\u001b[0m\u001b[0;34m\u001b[0m\u001b[0;34m\u001b[0m\u001b[0m\n\u001b[0m\u001b[1;32m    354\u001b[0m         \u001b[0;32mexcept\u001b[0m \u001b[0mStopIteration\u001b[0m \u001b[0;32mas\u001b[0m \u001b[0merr\u001b[0m\u001b[0;34m:\u001b[0m\u001b[0;34m\u001b[0m\u001b[0;34m\u001b[0m\u001b[0m\n\u001b[1;32m    355\u001b[0m             \u001b[0;32mraise\u001b[0m \u001b[0mJSONDecodeError\u001b[0m\u001b[0;34m(\u001b[0m\u001b[0;34m\"Expecting value\"\u001b[0m\u001b[0;34m,\u001b[0m \u001b[0ms\u001b[0m\u001b[0;34m,\u001b[0m \u001b[0merr\u001b[0m\u001b[0;34m.\u001b[0m\u001b[0mvalue\u001b[0m\u001b[0;34m)\u001b[0m \u001b[0;32mfrom\u001b[0m \u001b[0;32mNone\u001b[0m\u001b[0;34m\u001b[0m\u001b[0;34m\u001b[0m\u001b[0m\n",
            "\u001b[0;31mJSONDecodeError\u001b[0m: Expecting ',' delimiter: line 725 column 1 (char 31179)"
          ]
        }
      ],
      "source": [
        "import json\n",
        "import random\n",
        "import numpy as np\n",
        "from gensim.models import KeyedVectors  # Import the Word2Vec model from Gensim\n",
        "from sklearn.preprocessing import LabelEncoder\n",
        "from sklearn.model_selection import train_test_split\n",
        "from nltk.tokenize import word_tokenize\n",
        "from nltk.corpus import stopwords\n",
        "import nltk\n",
        "from tensorflow import keras\n",
        "nltk.download('punkt')\n",
        "nltk.download('stopwords')\n",
        "\n",
        "# Load the Word2Vec model\n",
        "word2vec_model = KeyedVectors.load_word2vec_format('path_to_word2vec_model', binary=True)\n",
        "\n",
        "# Load the intents data\n",
        "with open(\"intents.json\", \"r\") as f:\n",
        "    data = json.load(f)\n",
        "\n",
        "# Preprocessing\n",
        "vocab = set()\n",
        "classes = []\n",
        "documents = []\n",
        "\n",
        "for intent in data[\"intents\"]:\n",
        "    for pattern in intent[\"patterns\"]:\n",
        "        pattern = pattern.rstrip(\"?\")\n",
        "        tokens = word_tokenize(pattern)\n",
        "        tokens = [token.lower() for token in tokens if token not in set(stopwords.words(\"english\"))]\n",
        "        vocab.update(tokens)\n",
        "        documents.append((tokens, intent[\"tag\"]))\n",
        "    if intent[\"tag\"] not in classes:\n",
        "        classes.append(intent[\"tag\"])\n",
        "\n",
        "# Generate word embeddings for each token\n",
        "X = []\n",
        "y = []\n",
        "for doc in documents:\n",
        "    vecs = []\n",
        "    for token in doc[0]:\n",
        "        if token in word2vec_model:\n",
        "            vecs.append(word2vec_model[token])  # Get the word embedding for the token\n",
        "    if vecs:\n",
        "        vecs = np.mean(vecs, axis=0)  # Calculate the mean word embedding for the document\n",
        "        X.append(vecs)\n",
        "        y.append(classes.index(doc[1]))\n"
      ]
    },
    {
      "cell_type": "code",
      "execution_count": null,
      "metadata": {
        "id": "FcgNGFXz1-K-"
      },
      "outputs": [],
      "source": [
        "# Build the model\n",
        "model1 = Sequential()\n",
        "model1.add(Dense(128, input_dim=len(X_train[0]), activation=\"relu\"))  # Input layer with ReLU activation\n",
        "model1.add(Dropout(0.5))  # Dropout layer to prevent overfitting\n",
        "model1.add(Dense(64, activation=\"relu\"))  # Hidden layer with ReLU activation\n",
        "model1.add(Dense(len(classes), activation=\"softmax\"))  # Output layer with softmax activation for multi-class classification\n",
        "\n",
        "model1.compile(optimizer=\"adam\", loss=\"sparse_categorical_crossentropy\", metrics=[\"accuracy\"])  # Compile the model\n",
        "\n",
        "early_stop = keras.callbacks.EarlyStopping(monitor='val_loss', patience=20, verbose=1, mode='auto', restore_best_weights=True)\n",
        "# Define an early stopping callback to monitor the validation loss during training\n",
        "# It will stop training if the validation loss doesn't improve for 20 epochs\n",
        "# verbose=1 prints messages about the early stopping process\n",
        "# mode='auto' determines the direction of improvement (minimizing loss)\n",
        "# restore_best_weights=True restores the weights of the model to the ones with the best performance on the validation set\n",
        "\n",
        "# Train the model\n",
        "model1.fit(X_train, y_train, epochs=200, validation_split=0.2, batch_size=5, callbacks=early_stop)\n",
        "# Train the model using the training data\n",
        "# Perform 200 epochs, use 20% of the training data as validation set\n",
        "# Batch size is 5, which means the model will be updated after every 5 samples\n",
        "# The early_stop callback will monitor the validation loss and stop training if it doesn't improve\n",
        "\n",
        "# Evaluate the model\n",
        "loss, accuracy = model1.evaluate(X_test, y_test)\n",
        "# Evaluate the trained model using the testing data\n",
        "# Calculate the loss and accuracy of the model on the testing data\n",
        "\n",
        "print(f\"Loss: {loss}, Accuracy: {accuracy}\")\n",
        "# Print the loss and accuracy of the model on the testing data\n"
      ]
    },
    {
      "cell_type": "code",
      "execution_count": null,
      "metadata": {
        "id": "pL2Igk0D9vFS"
      },
      "outputs": [],
      "source": [
        "def vectorize_sentence(sentence, model):\n",
        "    sentence = sentence.rstrip(\"?\")  # Remove trailing question marks\n",
        "    # Tokenize the sentence into words\n",
        "    sentence_words = nltk.word_tokenize(sentence)\n",
        "    # Lemmatize each word and remove stopwords\n",
        "    sentence_words = [lemmatizer.lemmatize(word.lower(), pos='v') for word in sentence_words if word not in set(stopwords.words(\"english\"))]\n",
        "    # Create a vector representation\n",
        "    vecs = []\n",
        "    for word in sentence_words:\n",
        "        if word in model.key_to_index:\n",
        "            vecs.append(model[word])  # Get the word embedding for the word\n",
        "    if vecs:\n",
        "        vecs = np.mean(vecs, axis=0)  # Calculate the mean vector representation for the sentence\n",
        "    else:\n",
        "        vecs = np.zeros(model.vector_size)  # Use zero vector if no word embeddings are found\n",
        "    return vecs\n",
        "\n",
        "print(\"Hi there, this is Genie. I'm so happy to chat with you today! 😊\")\n",
        "print(\"Could you please be more specific with your questions.\")\n",
        "print(\"I'm always trying to improve my communication skills and learn from your feedback. (type quit to end the conversation):\")\n",
        "\n",
        "while True:\n",
        "    inp = input(\"You: \")  # Get user input\n",
        "    if inp.lower() == \"quit\":\n",
        "        # If the user enters \"quit\", find the \"goodbye\" intent and print a random response\n",
        "        for intent in data[\"intents\"]:\n",
        "            if intent[\"tag\"] == \"goodbye\":\n",
        "                print(\"Bot: \" + random.choice(intent[\"responses\"]))\n",
        "        break  # Exit the loop and end the conversation\n",
        "\n",
        "    vec = vectorize_sentence(inp, model)  # Vectorize the user input using the pre-trained word embeddings\n",
        "    results = model1.predict(np.array([vec]))  # Make a prediction using the trained model\n",
        "    results_index = np.argmax(results)  # Get the index of the predicted intent\n",
        "    tag = classes[results_index]\n",
        "\n",
        "    if results[0][results_index] > 0.5:\n",
        "        # If the confidence score is above 0.5, find the intent and print a response\n",
        "        for intent in data[\"intents\"]:\n",
        "            if intent[\"tag\"] == tag:\n",
        "                if intent[\"tag\"] == \"goodbye\" and inp == 'quit':\n",
        "                    # If the intent is \"goodbye\" and the user entered \"quit\", print a goodbye message and end the conversation\n",
        "                    print(\"Bot: \" + random.choice(intent[\"responses\"]))\n",
        "                    print(\"Bot: Goodbye!\")\n",
        "                    break\n",
        "                if intent[\"tag\"] == \"goodbye\" and inp != 'quit':\n",
        "                    # If the intent is \"goodbye\" but the user entered something other than \"quit\", print a specific message\n",
        "                    print(\"Bot: I am evolving constantly. I apologize that I could not help you with your query. Please give us a call at  and our team will be happy to assist.\")\n",
        "                else:\n",
        "                    # Print a random response from the intent\n",
        "                    print(\"Bot: \" + random.choice(intent[\"responses\"]))\n",
        "                    break\n",
        "    else:\n",
        "        # If the confidence score is below 0.5, print a generic message\n",
        "        print(\"Bot: I am evolving constantly. I apologize that I could not help you with your query. Please give us a call at  and our team will be happy to assist.\")\n"
      ]
    },
    {
      "cell_type": "code",
      "execution_count": null,
      "metadata": {
        "id": "p-BlIuhmV1lJ"
      },
      "outputs": [],
      "source": [
        "path='/content/drive/My Drive/Colab Notebooks' #Declare the path where the code and model file has been placed"
      ]
    },
    {
      "cell_type": "code",
      "execution_count": null,
      "metadata": {
        "id": "pwcWAsyNcFcy"
      },
      "outputs": [],
      "source": [
        "model1.save('Genie_word2vec.h5') #save the model"
      ]
    },
    {
      "cell_type": "code",
      "execution_count": null,
      "metadata": {
        "id": "ty3ALqKbJICh"
      },
      "outputs": [],
      "source": []
    }
  ],
  "metadata": {
    "colab": {
      "provenance": [],
      "gpuType": "T4"
    },
    "kernelspec": {
      "display_name": "Python 3",
      "name": "python3"
    },
    "language_info": {
      "name": "python"
    },
    "accelerator": "GPU",
    "gpuClass": "standard"
  },
  "nbformat": 4,
  "nbformat_minor": 0
}