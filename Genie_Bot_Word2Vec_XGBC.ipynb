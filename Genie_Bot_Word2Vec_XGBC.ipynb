{
  "cells": [
    {
      "cell_type": "code",
      "execution_count": null,
      "metadata": {
        "colab": {
          "base_uri": "https://localhost:8080/",
          "height": 1000
        },
        "id": "vD7wcI8W9uAk",
        "outputId": "7ec63f15-4e3c-44fd-d7a1-0cba334067df"
      },
      "outputs": [
        {
          "output_type": "display_data",
          "data": {
            "text/plain": [
              "<IPython.core.display.HTML object>"
            ],
            "text/html": [
              "\n",
              "     <input type=\"file\" id=\"files-3a329627-4f33-4b69-a027-7823dade3843\" name=\"files[]\" multiple disabled\n",
              "        style=\"border:none\" />\n",
              "     <output id=\"result-3a329627-4f33-4b69-a027-7823dade3843\">\n",
              "      Upload widget is only available when the cell has been executed in the\n",
              "      current browser session. Please rerun this cell to enable.\n",
              "      </output>\n",
              "      <script>// Copyright 2017 Google LLC\n",
              "//\n",
              "// Licensed under the Apache License, Version 2.0 (the \"License\");\n",
              "// you may not use this file except in compliance with the License.\n",
              "// You may obtain a copy of the License at\n",
              "//\n",
              "//      http://www.apache.org/licenses/LICENSE-2.0\n",
              "//\n",
              "// Unless required by applicable law or agreed to in writing, software\n",
              "// distributed under the License is distributed on an \"AS IS\" BASIS,\n",
              "// WITHOUT WARRANTIES OR CONDITIONS OF ANY KIND, either express or implied.\n",
              "// See the License for the specific language governing permissions and\n",
              "// limitations under the License.\n",
              "\n",
              "/**\n",
              " * @fileoverview Helpers for google.colab Python module.\n",
              " */\n",
              "(function(scope) {\n",
              "function span(text, styleAttributes = {}) {\n",
              "  const element = document.createElement('span');\n",
              "  element.textContent = text;\n",
              "  for (const key of Object.keys(styleAttributes)) {\n",
              "    element.style[key] = styleAttributes[key];\n",
              "  }\n",
              "  return element;\n",
              "}\n",
              "\n",
              "// Max number of bytes which will be uploaded at a time.\n",
              "const MAX_PAYLOAD_SIZE = 100 * 1024;\n",
              "\n",
              "function _uploadFiles(inputId, outputId) {\n",
              "  const steps = uploadFilesStep(inputId, outputId);\n",
              "  const outputElement = document.getElementById(outputId);\n",
              "  // Cache steps on the outputElement to make it available for the next call\n",
              "  // to uploadFilesContinue from Python.\n",
              "  outputElement.steps = steps;\n",
              "\n",
              "  return _uploadFilesContinue(outputId);\n",
              "}\n",
              "\n",
              "// This is roughly an async generator (not supported in the browser yet),\n",
              "// where there are multiple asynchronous steps and the Python side is going\n",
              "// to poll for completion of each step.\n",
              "// This uses a Promise to block the python side on completion of each step,\n",
              "// then passes the result of the previous step as the input to the next step.\n",
              "function _uploadFilesContinue(outputId) {\n",
              "  const outputElement = document.getElementById(outputId);\n",
              "  const steps = outputElement.steps;\n",
              "\n",
              "  const next = steps.next(outputElement.lastPromiseValue);\n",
              "  return Promise.resolve(next.value.promise).then((value) => {\n",
              "    // Cache the last promise value to make it available to the next\n",
              "    // step of the generator.\n",
              "    outputElement.lastPromiseValue = value;\n",
              "    return next.value.response;\n",
              "  });\n",
              "}\n",
              "\n",
              "/**\n",
              " * Generator function which is called between each async step of the upload\n",
              " * process.\n",
              " * @param {string} inputId Element ID of the input file picker element.\n",
              " * @param {string} outputId Element ID of the output display.\n",
              " * @return {!Iterable<!Object>} Iterable of next steps.\n",
              " */\n",
              "function* uploadFilesStep(inputId, outputId) {\n",
              "  const inputElement = document.getElementById(inputId);\n",
              "  inputElement.disabled = false;\n",
              "\n",
              "  const outputElement = document.getElementById(outputId);\n",
              "  outputElement.innerHTML = '';\n",
              "\n",
              "  const pickedPromise = new Promise((resolve) => {\n",
              "    inputElement.addEventListener('change', (e) => {\n",
              "      resolve(e.target.files);\n",
              "    });\n",
              "  });\n",
              "\n",
              "  const cancel = document.createElement('button');\n",
              "  inputElement.parentElement.appendChild(cancel);\n",
              "  cancel.textContent = 'Cancel upload';\n",
              "  const cancelPromise = new Promise((resolve) => {\n",
              "    cancel.onclick = () => {\n",
              "      resolve(null);\n",
              "    };\n",
              "  });\n",
              "\n",
              "  // Wait for the user to pick the files.\n",
              "  const files = yield {\n",
              "    promise: Promise.race([pickedPromise, cancelPromise]),\n",
              "    response: {\n",
              "      action: 'starting',\n",
              "    }\n",
              "  };\n",
              "\n",
              "  cancel.remove();\n",
              "\n",
              "  // Disable the input element since further picks are not allowed.\n",
              "  inputElement.disabled = true;\n",
              "\n",
              "  if (!files) {\n",
              "    return {\n",
              "      response: {\n",
              "        action: 'complete',\n",
              "      }\n",
              "    };\n",
              "  }\n",
              "\n",
              "  for (const file of files) {\n",
              "    const li = document.createElement('li');\n",
              "    li.append(span(file.name, {fontWeight: 'bold'}));\n",
              "    li.append(span(\n",
              "        `(${file.type || 'n/a'}) - ${file.size} bytes, ` +\n",
              "        `last modified: ${\n",
              "            file.lastModifiedDate ? file.lastModifiedDate.toLocaleDateString() :\n",
              "                                    'n/a'} - `));\n",
              "    const percent = span('0% done');\n",
              "    li.appendChild(percent);\n",
              "\n",
              "    outputElement.appendChild(li);\n",
              "\n",
              "    const fileDataPromise = new Promise((resolve) => {\n",
              "      const reader = new FileReader();\n",
              "      reader.onload = (e) => {\n",
              "        resolve(e.target.result);\n",
              "      };\n",
              "      reader.readAsArrayBuffer(file);\n",
              "    });\n",
              "    // Wait for the data to be ready.\n",
              "    let fileData = yield {\n",
              "      promise: fileDataPromise,\n",
              "      response: {\n",
              "        action: 'continue',\n",
              "      }\n",
              "    };\n",
              "\n",
              "    // Use a chunked sending to avoid message size limits. See b/62115660.\n",
              "    let position = 0;\n",
              "    do {\n",
              "      const length = Math.min(fileData.byteLength - position, MAX_PAYLOAD_SIZE);\n",
              "      const chunk = new Uint8Array(fileData, position, length);\n",
              "      position += length;\n",
              "\n",
              "      const base64 = btoa(String.fromCharCode.apply(null, chunk));\n",
              "      yield {\n",
              "        response: {\n",
              "          action: 'append',\n",
              "          file: file.name,\n",
              "          data: base64,\n",
              "        },\n",
              "      };\n",
              "\n",
              "      let percentDone = fileData.byteLength === 0 ?\n",
              "          100 :\n",
              "          Math.round((position / fileData.byteLength) * 100);\n",
              "      percent.textContent = `${percentDone}% done`;\n",
              "\n",
              "    } while (position < fileData.byteLength);\n",
              "  }\n",
              "\n",
              "  // All done.\n",
              "  yield {\n",
              "    response: {\n",
              "      action: 'complete',\n",
              "    }\n",
              "  };\n",
              "}\n",
              "\n",
              "scope.google = scope.google || {};\n",
              "scope.google.colab = scope.google.colab || {};\n",
              "scope.google.colab._files = {\n",
              "  _uploadFiles,\n",
              "  _uploadFilesContinue,\n",
              "};\n",
              "})(self);\n",
              "</script> "
            ]
          },
          "metadata": {}
        },
        {
          "output_type": "stream",
          "name": "stdout",
          "text": [
            "Saving intents.json to intents (1).json\n"
          ]
        },
        {
          "output_type": "execute_result",
          "data": {
            "text/plain": [
              "{'intents.json': b'{\\n  \"intents\": [\\n    {\\n      \"tag\": \"greeting\",\\n      \"patterns\": [\\n        \"Hi\",\\n\\t  \"Hi Bot\",\\n\\t  \"Hola\",\\n\\t  \"Hi, how are you\",\\n        \"How are you\",\\n        \"Is anyone there?\",\\n        \"Hello\",\\n        \"Hey\",\\n        \"What\\'s up\",\\n        \"Hi there\",\\n        \"Hey there\",\\n        \"Good morning\",\\n        \"Good afternoon\",\\n        \"Good evening\",\\n        \"Howdy\",\\n        \"Hello there\"\\n      ],\\n      \"responses\": [\\n        \"What can i help you with today?\",\\n        \"How can I help you today?\"\\n      ],\\n      \"context_set\": \"\"\\n    },\\n    {\\n      \"tag\": \"goodbye\",\\n      \"patterns\": [\\n        \"Bye\",\\n        \"See you later\",\\n        \"Goodbye\",\\n        \"Farewell\",\\n        \"Take care\",\\n        \"Catch you later\",\\n        \"Goodbye for now\",\\n        \"Bye for now\",\\n        \"Talk to you later\",\\n        \"See you soon\",\\n        \"Take it easy\",\\n        \"So long\",\\n        \"Adios\",\\n        \"Good night\",\\n        \"Later\",\\n        \"Have a good one\",\\n        \"Cheers\",\\n        \"Good luck\",\\n        \"Safe travels\",\\n        \"Until next time\"\\n      ],\\n      \"responses\": [\\n        \"See you later, thanks for visiting\",\\n        \"Have a nice day\",\\n        \"Bye! Come back again soon.\"\\n      ],\\n      \"context_set\": \"\"\\n    },\\n    {\\n      \"tag\": \"thanks\",\\n      \"patterns\": [\\n        \"Thanks\",\\n        \"Thank you\",\\n        \"That\\'s helpful\",\\n        \"Much appreciated\",\\n        \"Thanks a lot\",\\n        \"Thanks so much\",\\n        \"Thank you very much\",\\n        \"I appreciate it\",\\n        \"You\\'re a lifesaver\",\\n        \"I owe you one\",\\n        \"You\\'re the best\",\\n        \"Thanks for the help\",\\n        \"You\\'re awesome\",\\n        \"I appreciate your help\",\\n        \"You\\'re amazing\",\\n        \"Grateful for your help\",\\n        \"Thanks for your assistance\",\\n        \"You\\'re a big help\",\\n        \"That\\'s so kind of you\",\\n        \"I can\\'t thank you enough\"\\n      ],\\n      \"responses\": [\\n        \"Happy to help!\",\\n        \"Any time!\",\\n        \"My pleasure\"\\n      ],\\n      \"context_set\": \"\"\\n    },\\n {\\n     \"tag\": \"catering\",\\n\"patterns\": [\\n\"Do you offer catering services?\",\\n\"Can you cater for events?\",\\n\"Are you available for catering?\",\\n\"Can I hire you for catering?\",\\n\"What types of events do you cater for?\",\\n\"What is your catering menu?\",\\n\"Can you create a custom catering menu?\",\\n\"What is your capacity for catering events?\",\\n\"Do you have experience catering for large events?\",\\n\"What is the cost of your catering services?\",\\n\"Do you offer on-site catering?\",\\n\"Can you accommodate dietary restrictions or special requests?\",\\n\"How far in advance should I book your catering services?\",\\n\"What is included in your catering services?\",\\n\"Do you provide serving staff for catering events?\",\\n\"Can you handle last-minute catering requests?\",\\n\"Do you provide all necessary equipment for catering events?\",\\n\"Can you assist with event planning and coordination?\",\\n\"Do you offer delivery for catering orders?\"\\n],\\n      \"responses\": [\\n        \"We will be more than happy to serve fresh food to make your event more memorable. Feel free to call us at (669)-224-0833\",\\n        \"At Suggi OOta, we offer top-notch catering services to help make your event a success. Give us a call at (669)-224-0833 to learn more and to place your order.\",\\n        \"We\\'d love to help make your event unforgettable with our fresh and delicious food. Feel free to give us a call at (669)-224-0833 to discuss your catering needs.\"\\n      ],\\n      \"context_set\": \"\"\\n    },\\n    {\\n      \"tag\": \"hours\",\\n      \"patterns\": [\\n        \"What hours are you open?\",\\n        \"What are your hours?\",\\n        \"When are you open?\",\\n        \"Tell me your hours\",\\n        \"What time do you open?\",\\n        \"What time do you close?\",\\n        \"When do you close?\",\\n        \"What\\'s your schedule?\",\\n\\t  \"what are today\\'s timings?\",\\n        \"Are you open now?\",\\n        \"What are your business hours?\",\\n        \"What are your working hours?\",\\n        \"When can I visit?\",\\n        \"What are your opening hours?\",\\n        \"What are your closing hours?\",\\n        \"What days are you open?\",\\n        \"When do you open?\",\\n        \"When do you close?\",\\n        \"Are you open on weekends?\",\\n        \"Are you open on holidays?\",\\n        \"What time are you open?\"\\n      ],\\n      \"responses\": [\\n        \"We\\'re open every day from 11am-9pm, except on Mondays when we\\'re closed. On Fridays, we\\'re open from 4pm-9pm.\",\\n        \"Our hours are 11am-9pm every day, except for Mondays when we\\'re closed. Fridays, we\\'re open from 4pm-9pm.\"\\n      ],\\n      \"context_set\": \"\"\\n},\\n{\\n\"tag\": \"location\",\\n\"patterns\": [\\n\"What is your location?\",\\n\"Where are you located?\",\\n\"What is your address?\",\\n\"Where is your restaurant situated?\",\\n\"How can I find you?\",\\n\"What\\'s your location?\",\\n\"Where can I find you?\",\\n\"Where are you?\",\\n\"What\\'s the address?\",\\n\"Where is your place?\",\\n\"Where is your business located?\",\\n\"What street are you on?\",\\n\"Which area is your restaurant in?\",\\n\"What\\'s your physical location?\",\\n\"Where should I go?\",\\n\"Where is your store?\",\\n\"Where is your shop?\",\\n\"What\\'s the location\",\\n\"Can you provide the address\",\\n\"Where do I find you\",\\n\"What is your location\",\\n\"Where are you located\",\\n\"What is your address\",\\n\"Where is your restaurant situated\",\\n\"How can I find you\",\\n\"What\\'s your location\",\\n\"Where can I find you\",\\n\"Where are you\",\\n\"What\\'s the address\",\\n\"Where is your place\",\\n\"Where is your business located\",\\n\"What street are you on\",\\n\"Which area is your restaurant in\",\\n\"What\\'s your physical location\",\\n\"Where should I go\",\\n\"Where is your store\",\\n\"Where is your shop\",\\n\"What\\'s the location\",\\n\"Can you provide the address\",\\n\"Where do I find you\"\\n],\\n\"responses\": [\\n\"We are one of the Cloud Kitchens (K-31) located at 949 Ruff Dr, San Jose, CA 95110. Please follow the link to visit us: https://www.google.com/maps?q=949+Ruff+Dr,+San+Jose,+CA+95110\"],\\n\"context_set\": \"\"\\n},\\n{\\n\"tag\": \"contact\",\\n\"patterns\": [\\n\"How can I contact you?\",\\n\"What\\'s your phone number?\",\\n\"Can I call you?\",\\n\"May I have your contact information?\",\\n\"What are your contact details?\",\\n\"Can you provide your phone number?\",\\n\"How do I reach you?\",\\n\"How do I get in touch with you?\",\\n\"What\\'s the best way to contact you?\",\\n\"Do you have an email address?\",\\n\"Is there a way to email you?\",\\n\"Can I reach out to you via email?\",\\n\"Can you give me your contact number?\",\\n\"What is the best way to get in touch with your restaurant?\",\\n\"What is your phone number?\",\\n\"What are your phone lines?\",\\n\"Can I have your email address?\",\\n\"Can you provide your contact details?\",\\n\"How can I get in touch with your business?\",\\n\"What\\'s your email address?\",\\n\"How do I contact your restaurant?\",\\n\"How can I reach your restaurant?\",\\n\"How do I make a reservation?\",\\n\"How do I book a table?\",\\n\"What is the best way to make a reservation?\",\\n\"How can I contact you\",\\n\"What\\'s your phone number\",\\n\"Can I call you\",\\n\"May I have your contact information\",\\n\"What are your contact details\",\\n\"Can you provide your phone number\",\\n\"How do I reach you\",\\n\"How do I get in touch with you\",\\n\"What\\'s the best way to contact you\",\\n\"Do you have an email address\",\\n\"Is there a way to email you\",\\n\"Can I reach out to you via email\",\\n\"Can you give me your contact number\",\\n\"What is the best way to get in touch with your restaurant\",\\n\"What is your phone number\",\\n\"What are your phone lines\",\\n\"Can I have your email address\",\\n\"Can you provide your contact details\",\\n\"How can I get in touch with your business\",\\n\"What\\'s your email address\",\\n\"How do I contact your restaurant\",\\n\"How can I reach your restaurant\",\\n\"How do I make a reservation\",\\n\"How do I book a table\",\\n\"What is the best way to make a reservation\"\\n],\\n\"responses\": [\\n\"Feel free to call us at (669)-224-0833 from 11 am-9pm on everyday except Mondays\",\\n\"Please give us a call at (669)-224-0833 from 11 am-9pm on everyday except Mondays\",\\n\"We would love to hear from you! You can contact us at (669)-224-0833 from 11 am-9pm on everyday except Mondays\"\\n],\\n\"context_set\": \"\"\\n},\\n\\n{\\n\"tag\": \"payments\",\\n\"patterns\": [\\n\"Do you take credit cards?\",\\n\"Do you accept Mastercard?\",\\n\"Are you cash only?\",\\n\"What payment methods do you accept?\",\\n\"Can I pay with a credit card?\",\\n\"Do you accept debit cards?\",\\n\"Do you take Visa?\",\\n\"Can I pay with cash?\",\\n\"Do you accept American Express?\",\\n\"What cards do you accept?\",\\n\"Do you take checks?\",\\n\"Do you accept Apple Pay?\",\\n\"Can I use Google Pay?\",\\n\"Do you accept PayPal?\",\\n\"What are the payment options?\",\\n\"How can I pay?\",\\n\"Is it card only?\",\\n\"Do you have a cashless policy?\",\\n\"Do you accept contactless payments?\",\\n\"Can I use my credit card?\"\\n],\\n\"responses\": [\\n\"We accept VISA, Mastercard and AMEX\",\\n\"We accept most major credit cards\"\\n],\\n\"context_set\": \"\"\\n},\\n{\\n\"tag\": \"todaysmenu\",\\n\"patterns\": [\\n\"What is your menu for today?\",\\n\"What are you serving today?\",\\n\"What is today\\'s special?\",\\n\"What\\'s on the menu?\",\\n\"What are today\\'s specials?\",\\n\"Any new dishes today?\",\\n\"What should I try today?\",\\n\"What\\'s the special?\",\\n\"What do you recommend today?\",\\n\"What are the daily specials?\",\\n\"What\\'s good today?\",\\n\"What\\'s the best thing on the menu today?\",\\n\"What\\'s new on the menu?\",\\n\"What\\'s your chef\\'s recommendation?\",\\n\"What\\'s the most popular dish today?\",\\n\"What\\'s your top dish for today?\",\\n\"What are the chef\\'s specials?\",\\n\"What\\'s the dish of the day?\",\\n\"Any special offers today?\",\\n\"What are the featured items?\"\\n],\\n\"responses\": [\\n\"Our menu is a daily changing menu as we prepare everything from scratch on the same day, Please visit https://www.suggioota.com/order-online for more information.\",\\n\"Our daily changing menu features only fresh, made-from-scratch meals, using the best seasonal ingredients. Please visit https://www.suggioota.com/order-online to explore our menu.\"\\n],\\n\"context_set\": \"\"\\n},\\n{\\n\"tag\": \"deliveryoption\",\\n\"patterns\": [\\n\"Do you provide home delivery?\",\\n\"Do you deliver the food?\",\\n\"What are the home delivery options?\",\\n\"Do you offer delivery?\",\\n\"Is there a delivery option?\",\\n\"Can I get my food delivered?\",\\n\"What delivery services do you use?\",\\n\"How does delivery work?\",\\n\"Do you have a delivery service?\",\\n\"Can you deliver to my house?\",\\n\"Do you partner with any delivery apps?\",\\n\"Which delivery apps do you work with?\",\\n\"Can I order delivery?\",\\n\"What\\'s your delivery range?\",\\n\"How much is delivery?\",\\n\"Is there a delivery fee?\",\\n\"How long does delivery take?\",\\n\"Do you do contactless delivery?\",\\n\"Can I track my delivery?\"\\n],\\n\"responses\": [\\n\"Yes, we provide home delivery through Doordash, Uber Eats, Grubhub, and LemonHat\",\\n\"We have home delivery options through Doordash, Uber Eats, Grubhub, and LemonHat\"\\n],\\n\"context_set\": \"food\"\\n},\\n{\\n\"tag\": \"menu\",\\n\"patterns\": [\\n\"What is your Menu?\",\\n\"What are the main course options?\",\\n\"Can you tell me the most delicious dish from the menu?\",\\n\"What is the today\\'s special?\",\\n\"What do you serve?\",\\n\"Can I see the menu?\",\\n\"What\\'s on the menu?\",\\n\"What are your best dishes?\",\\n\"What do you recommend?\",\\n\"Tell me about your menu\",\\n\"What kind of food do you have?\",\\n\"What\\'s your most popular dish?\",\\n\"Do you have any signature dishes?\",\\n\"What are your top menu items?\",\\n\"What kind of cuisine do you serve?\",\\n\"What are your appetizers?\",\\n\"What are your desserts?\",\\n\"What are your specials?\",\\n\"What are your vegan options?\",\\n\"Do you have gluten-free options?\"\\n],\\n\"responses\": [\\n\"You can visit https://www.suggioota.com/order-online for menu options\",\\n\"You can check out the food menu at https://www.suggioota.com/order-online\"\\n],\\n\"context_filter\": \"food\"\\n},\\n{\\n\"tag\": \"order\",\\n\"patterns\": [\\n\"I\\'d like to order\",\\n\"Can you take my order?\",\\n\"What do you have on the menu?\",\\n\"What\\'s good to eat?\",\\n\"What\\'s your recommendation?\",\\n\"Can you suggest something?\",\\n\"What do you suggest?\",\\n\"I want to place an order\",\\n\"Can I order some food?\",\\n\"How can I order?\",\\n\"order food\",\\n\"i want to order\",\\n\"What\\'s the best thing to order?\",\\n\"What should I get?\",\\n\"What do you think I should try?\",\\n\"I need help deciding what to order\",\\n\"I\\'m not sure what to get\",\\n\"I can\\'t decide what to order\",\\n\"What are your customer favorites?\",\\n\"What would you recommend for a first-timer?\",\\n\"What\\'s a must-try dish?\",\\n\"What\\'s a good option for lunch?\"\\n],\\n\"responses\": [\\n\"Sure, You can place your order online at https://www.suggioota.com/order-online\",\\n\"Of course, You can place your order online at https://www.suggioota.com/order-online\",\\n\"We have many great options to choose from, You can place your order online at https://www.suggioota.com/order-online\"\\n],\\n\"context_set\": \"\"\\n}\\n]\\n}\\n'}"
            ]
          },
          "metadata": {},
          "execution_count": 12
        }
      ],
      "source": [
        "from google.colab import files\n",
        "files.upload()"
      ]
    },
    {
      "cell_type": "code",
      "execution_count": null,
      "metadata": {
        "id": "e0PV8qN2C3iJ"
      },
      "outputs": [],
      "source": [
        "import gensim.downloader as api\n",
        "# Load pre-trained word2vec model\n",
        "model = api.load(\"word2vec-google-news-300\")"
      ]
    },
    {
      "cell_type": "code",
      "execution_count": null,
      "metadata": {
        "colab": {
          "base_uri": "https://localhost:8080/"
        },
        "id": "JYPRjvkx805q",
        "outputId": "1ca941bf-9319-4b50-e1ea-3276d98a682b"
      },
      "outputs": [
        {
          "output_type": "stream",
          "name": "stderr",
          "text": [
            "[nltk_data] Downloading package punkt to /root/nltk_data...\n",
            "[nltk_data]   Package punkt is already up-to-date!\n",
            "[nltk_data] Downloading package wordnet to /root/nltk_data...\n",
            "[nltk_data]   Package wordnet is already up-to-date!\n",
            "[nltk_data] Downloading package stopwords to /root/nltk_data...\n",
            "[nltk_data]   Package stopwords is already up-to-date!\n"
          ]
        }
      ],
      "source": [
        "import json\n",
        "import random\n",
        "import numpy as np\n",
        "import tensorflow as tf\n",
        "from tensorflow.keras.layers import Dense\n",
        "from tensorflow.keras.layers import Dropout\n",
        "from tensorflow.keras.models import Sequential\n",
        "from sklearn.preprocessing import LabelEncoder\n",
        "from sklearn.model_selection import train_test_split\n",
        "from nltk.tokenize import word_tokenize\n",
        "from nltk.stem import WordNetLemmatizer\n",
        "from nltk.corpus import stopwords\n",
        "import nltk\n",
        "from tensorflow import keras\n",
        "nltk.download('punkt')\n",
        "nltk.download('wordnet')\n",
        "nltk.download('stopwords')\n",
        "\n",
        "# Load the intents data\n",
        "with open(\"intents.json\", \"r\") as f:\n",
        "    data = json.load(f)\n",
        "\n",
        "# Preprocessing\n",
        "vocab = set()\n",
        "classes = []\n",
        "documents = []\n",
        "\n",
        "for intent in data[\"intents\"]:\n",
        "    for pattern in intent[\"patterns\"]:\n",
        "        pattern = pattern.rstrip(\"?\")\n",
        "        tokens = word_tokenize(pattern)\n",
        "        tokens = [token.lower() for token in tokens if token not in set(stopwords.words(\"english\"))]\n",
        "        vocab.update(tokens)\n",
        "        documents.append((tokens, intent[\"tag\"]))\n",
        "    if intent[\"tag\"] not in classes:\n",
        "        classes.append(intent[\"tag\"])\n",
        "\n",
        "# Generate word embeddings for each token\n",
        "X = []\n",
        "y = []\n",
        "for doc in documents:\n",
        "    vecs = []\n",
        "    P = 0\n",
        "    for token in doc[0]:\n",
        "        if token in model.key_to_index:\n",
        "            vecs.append(model[token])\n",
        "    if vecs:\n",
        "        vecs = np.mean(vecs, axis=0)\n",
        "        X.append(vecs)\n",
        "        y.append(classes.index(doc[1]))\n",
        "\n",
        "# Note: The code snippet references a model variable, which should be defined or loaded with appropriate models before this code snippet.\n",
        "# Please make sure to define or load the model before using this code.\n",
        "\n",
        "# The code above generates X and y based on the intents data, representing the word embeddings and labels respectively.\n",
        "\n",
        "# Please note that the vectorization and training steps are not included in this code snippet.\n",
        "# Additional code is required to vectorize the sentences and train a model for intent classification.\n",
        "# Once the model is trained, it can be used for predicting intents based on user input.\n",
        "# The prediction code will depend on the specific model and vectorization technique used.\n",
        "\n",
        "# It's important to note that the code snippet provided requires additional implementation steps before it can be run successfully.\n",
        "# Please ensure that the necessary model, data, and vectorization steps are implemented appropriately.\n"
      ]
    },
    {
      "cell_type": "code",
      "source": [
        "X = np.array(X)\n",
        "y = np.array(y)\n"
      ],
      "metadata": {
        "id": "XJd6_q0iTRsd"
      },
      "execution_count": null,
      "outputs": []
    },
    {
      "cell_type": "code",
      "source": [
        "X.shape"
      ],
      "metadata": {
        "colab": {
          "base_uri": "https://localhost:8080/"
        },
        "id": "Ed3j8iNTTSJJ",
        "outputId": "8aa12d96-70f6-4a00-aeaf-2125beb66cea"
      },
      "execution_count": null,
      "outputs": [
        {
          "output_type": "execute_result",
          "data": {
            "text/plain": [
              "(287, 300)"
            ]
          },
          "metadata": {},
          "execution_count": 27
        }
      ]
    },
    {
      "cell_type": "code",
      "source": [
        "\n",
        "# Split the data into training and testing sets\n",
        "X_train, X_test, y_train, y_test = train_test_split(X, y, test_size=0.2, random_state=42,stratify=y)\n"
      ],
      "metadata": {
        "id": "Pfj8Td2eTTUR"
      },
      "execution_count": null,
      "outputs": []
    },
    {
      "cell_type": "code",
      "source": [
        "X_train.shape"
      ],
      "metadata": {
        "colab": {
          "base_uri": "https://localhost:8080/"
        },
        "id": "38jiP8OCTXAv",
        "outputId": "e9c1390a-c9c6-4e1d-e01f-ce4930635314"
      },
      "execution_count": null,
      "outputs": [
        {
          "output_type": "execute_result",
          "data": {
            "text/plain": [
              "(229, 300)"
            ]
          },
          "metadata": {},
          "execution_count": 29
        }
      ]
    },
    {
      "cell_type": "code",
      "source": [
        "len(X_train[1])"
      ],
      "metadata": {
        "colab": {
          "base_uri": "https://localhost:8080/"
        },
        "id": "EIxwKs6IZob1",
        "outputId": "68b9ef7e-ecc3-4aba-ccf4-107ce14c08da"
      },
      "execution_count": null,
      "outputs": [
        {
          "output_type": "execute_result",
          "data": {
            "text/plain": [
              "300"
            ]
          },
          "metadata": {},
          "execution_count": 30
        }
      ]
    },
    {
      "cell_type": "code",
      "execution_count": null,
      "metadata": {
        "id": "FcgNGFXz1-K-",
        "colab": {
          "base_uri": "https://localhost:8080/"
        },
        "outputId": "3c9ffb0c-2ff6-4563-c344-7403aaca853e"
      },
      "outputs": [
        {
          "output_type": "stream",
          "name": "stdout",
          "text": [
            "Accuracy: 0.7586206896551724\n"
          ]
        }
      ],
      "source": [
        "from xgboost import XGBClassifier\n",
        "\n",
        "# Create the model\n",
        "model1 = XGBClassifier()\n",
        "\n",
        "# Train the model\n",
        "model1.fit(X_train, y_train)\n",
        "\n",
        "# Evaluate the model\n",
        "accuracy = model1.score(X_test, y_test)\n",
        "print(f\"Accuracy: {accuracy}\")\n"
      ]
    },
    {
      "cell_type": "code",
      "execution_count": null,
      "metadata": {
        "colab": {
          "base_uri": "https://localhost:8080/"
        },
        "id": "pL2Igk0D9vFS",
        "outputId": "795e2db8-1a4c-4148-b892-39579b8ba5be"
      },
      "outputs": [
        {
          "output_type": "stream",
          "name": "stdout",
          "text": [
            "Hi there, this is Genie. I'm so happy to chat with you today! 😊 \n",
            "Could you please be more specific with your questions.\n",
            "I'm always trying to improve my communication skills and learn from your feedback. (type quit to end the conversation):\n",
            "You: How much time will it take for the order to be prepared?\n",
            "Bot: Of course, You can place your order online at https://www.suggioota.com/order-online\n",
            "You: I need to order for catering.\n",
            "Bot: We will be more than happy to serve fresh food to make your event more memorable. Feel free to call us at (669)-224-0833\n",
            "You: Is home Delivery available or pickup?\n",
            "Bot: We have home delivery options through Doordash, Uber Eats, Grubhub, and LemonHat\n",
            "You: what are the vegetarian options?\n",
            "Bot: You can check out the food menu at https://www.suggioota.com/order-online\n",
            "You: What drinks do you offer?\n",
            "Bot: We are one of the Cloud Kitchens (K-31) located at 949 Ruff Dr, San Jose, CA 95110. Please follow the link to visit us: https://www.google.com/maps?q=949+Ruff+Dr,+San+Jose,+CA+95110\n",
            "You: Are you currently running any promotions or specials?\n",
            "Bot: Any time!\n",
            "You: Can I book this restaurant for an event?\n",
            "Bot: Please give us a call at (669)-224-0833 from 11 am-9pm on everyday except Mondays\n",
            "You: Seat availability for the group in the restaurant\n",
            "Bot: We'd love to help make your event unforgettable with our fresh and delicious food. Feel free to give us a call at (669)-224-0833 to discuss your catering needs.\n",
            "You: Menu details\n",
            "Bot: Our daily changing menu features only fresh, made-from-scratch meals, using the best seasonal ingredients. Please visit https://www.suggioota.com/order-online to explore our menu.\n",
            "You: what is the spice level in food\n",
            "Bot: Our daily changing menu features only fresh, made-from-scratch meals, using the best seasonal ingredients. Please visit https://www.suggioota.com/order-online to explore our menu.\n",
            "You: What is the opening and closing time of the restaurant?\n",
            "Bot: Our hours are 11am-9pm every day, except for Mondays when we're closed. Fridays, we're open from 4pm-9pm.\n",
            "You: Special cuisines/items for the day\n",
            "Bot: Our menu is a daily changing menu as we prepare everything from scratch on the same day, Please visit https://www.suggioota.com/order-online for more information.\n",
            "You: Can you resolve an issue with the food?\n",
            "Bot: Yes, we provide home delivery through Doordash, Uber Eats, Grubhub, and LemonHat\n",
            "You: What is most popular menu items\n",
            "Bot: You can check out the food menu at https://www.suggioota.com/order-online\n",
            "You: Can you take Cooking Instructions?\n",
            "Bot: We have many great options to choose from, You can place your order online at https://www.suggioota.com/order-online\n",
            "You: How much minimum wait time for a togo order?\n",
            "Bot: Of course, You can place your order online at https://www.suggioota.com/order-online\n",
            "You: Is there any discount available?\n",
            "Bot: Yes, we provide home delivery through Doordash, Uber Eats, Grubhub, and LemonHat\n",
            "You: Share the exact location of the restaurant?\n",
            "Bot: We are one of the Cloud Kitchens (K-31) located at 949 Ruff Dr, San Jose, CA 95110. Please follow the link to visit us: https://www.google.com/maps?q=949+Ruff+Dr,+San+Jose,+CA+95110\n",
            "You: Do you have buffet all days?\n",
            "Bot: You can check out the food menu at https://www.suggioota.com/order-online\n",
            "You: What do you serve?\n",
            "Bot: You can check out the food menu at https://www.suggioota.com/order-online\n",
            "You: quit\n",
            "Bot: See you later, thanks for visiting\n"
          ]
        }
      ],
      "source": [
        "def vectorize_sentence(sentence, model):\n",
        "    sentence = sentence.rstrip(\"?\")\n",
        "    # tokenize the sentence\n",
        "    sentence_words = nltk.word_tokenize(sentence)\n",
        "    # lemmatize each word and remove stopwords\n",
        "    sentence_words = [lemmatizer.lemmatize(word.lower(), pos='v') for word in sentence_words if word not in set(stopwords.words(\"english\"))]\n",
        "    # create a vector representation\n",
        "    vecs = []\n",
        "    for word in sentence_words:\n",
        "        if word in model.key_to_index:\n",
        "            vecs.append(model[word])\n",
        "    if vecs:\n",
        "        vecs = np.mean(vecs, axis=0)\n",
        "    else:\n",
        "        vecs = np.zeros(model.vector_size)\n",
        "    return vecs\n",
        "\n",
        "print(\"Hi there, this is Genie. I'm so happy to chat with you today! 😊\")\n",
        "print(\"Could you please be more specific with your questions.\")\n",
        "print(\"I'm always trying to improve my communication skills and learn from your feedback. (type quit to end the conversation):\")\n",
        "\n",
        "while True:\n",
        "    inp = input(\"You: \")  # Get user input\n",
        "    if inp.lower() == \"quit\":\n",
        "        for intent in data[\"intents\"]:\n",
        "            if intent[\"tag\"] == \"goodbye\":\n",
        "                print(\"Bot: \" + random.choice(intent[\"responses\"]))\n",
        "        break  # Exit the loop and end the conversation\n",
        "\n",
        "    vec = vectorize_sentence(inp, model)  # Vectorize the user input using the model's embeddings\n",
        "    results = model1.predict(np.array([vec]))  # Make a prediction using the trained model\n",
        "    if results[0] > 0.5:\n",
        "        tag = classes[results[0]]\n",
        "        for intent in data[\"intents\"]:\n",
        "            if intent[\"tag\"] == tag:\n",
        "                if intent[\"tag\"] == \"goodbye\" and inp == 'quit':\n",
        "                    print(\"Bot: \" + random.choice(intent[\"responses\"]))\n",
        "                    print(\"Bot: Goodbye!\")\n",
        "                    break\n",
        "                if intent[\"tag\"] == \"goodbye\" and inp != 'quit':\n",
        "                    print(\"Bot: I am evolving constantly. I apologize that I could not help you with your query. Please give us a call at  and our team will be happy to assist\")\n",
        "                else:\n",
        "                    print(\"Bot: \" + random.choice(intent[\"responses\"]))\n",
        "                    break\n",
        "    else:\n",
        "        print(\"Bot: I am evolving constantly. I apologize that I could not help you with your query. Please give us a call at  and our team will be happy to assist\")\n",
        "\n",
        "# The code above defines a function vectorize_sentence() to convert a sentence into a vector representation using the provided model's embeddings.\n",
        "# It then initializes a conversation loop where user input is processed and classified using the trained model.\n",
        "# The intent with the highest predicted probability is selected, and an appropriate response is printed based on the intent.\n",
        "\n",
        "# Please note that the code snippet provided requires additional implementation steps before it can be run successfully.\n",
        "# It assumes the availability of the model and associated embeddings, as well as appropriate data loading and preprocessing.\n",
        "# Additionally, specific handling of the conversation loop and responses based on intents may require further customization to fit your use case."
      ]
    },
    {
      "cell_type": "code",
      "execution_count": null,
      "metadata": {
        "id": "p-BlIuhmV1lJ"
      },
      "outputs": [],
      "source": [
        "path='/content/drive/My Drive/Colab Notebooks' #Declare the path where the code and model file has been placed"
      ]
    },
    {
      "cell_type": "code",
      "execution_count": null,
      "metadata": {
        "id": "pwcWAsyNcFcy"
      },
      "outputs": [],
      "source": [
        "import pickle\n",
        "\n",
        "# Save the model to disk\n",
        "with open(\"model_XGBC_Word2vec.pickle\", \"wb\") as f:\n",
        "    pickle.dump(model1, f)"
      ]
    },
    {
      "cell_type": "code",
      "execution_count": null,
      "metadata": {
        "id": "ty3ALqKbJICh"
      },
      "outputs": [],
      "source": []
    }
  ],
  "metadata": {
    "colab": {
      "provenance": [],
      "gpuType": "T4"
    },
    "kernelspec": {
      "display_name": "Python 3",
      "name": "python3"
    },
    "language_info": {
      "name": "python"
    },
    "accelerator": "GPU",
    "gpuClass": "standard"
  },
  "nbformat": 4,
  "nbformat_minor": 0
}